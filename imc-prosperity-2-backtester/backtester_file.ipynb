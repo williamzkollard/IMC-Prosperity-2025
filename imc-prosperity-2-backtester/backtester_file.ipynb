{
 "cells": [
  {
   "cell_type": "code",
   "execution_count": 6,
   "id": "ed33c574-bb6b-459f-8d82-089b00514b97",
   "metadata": {},
   "outputs": [
    {
     "ename": "NameError",
     "evalue": "name 'prosperity2bt' is not defined",
     "output_type": "error",
     "traceback": [
      "\u001b[0;31m---------------------------------------------------------------------------\u001b[0m",
      "\u001b[0;31mNameError\u001b[0m                                 Traceback (most recent call last)",
      "Cell \u001b[0;32mIn[6], line 1\u001b[0m\n\u001b[0;32m----> 1\u001b[0m prosperity2bt \u001b[38;5;241m<\u001b[39m\u001b[38;5;124m\"\u001b[39m\u001b[38;5;124msrc/Round 0/ traderv0.8.py\u001b[39m\u001b[38;5;124m\"\u001b[39m\u001b[38;5;241m>\u001b[39m \u001b[38;5;241m0\u001b[39m\n",
      "\u001b[0;31mNameError\u001b[0m: name 'prosperity2bt' is not defined"
     ]
    }
   ],
   "source": [
    "prosperity2bt <\"src/Round 0/ traderv0.8.py\"> 0"
   ]
  },
  {
   "cell_type": "code",
   "execution_count": 1,
   "id": "e0e53ae6-7bfa-409e-98fc-ff20a5672ae9",
   "metadata": {},
   "outputs": [],
   "source": [
    "import prosperity2bt "
   ]
  },
  {
   "cell_type": "code",
   "execution_count": 3,
   "id": "19ddd3c1-3c29-4301-a8e2-3417052220c0",
   "metadata": {},
   "outputs": [
    {
     "data": {
      "text/plain": [
       "<module 'prosperity2bt' from '/Users/williamkollard/Desktop/Desktop/Bocconi University/BSIC/Prosperity/imc-prosperity-2-backtester/prosperity2bt/__init__.py'>"
      ]
     },
     "execution_count": 3,
     "metadata": {},
     "output_type": "execute_result"
    }
   ],
   "source": [
    "prosperity2bt "
   ]
  },
  {
   "cell_type": "code",
   "execution_count": 15,
   "id": "902179f2-28b4-48c7-b58d-bd46c9979eb9",
   "metadata": {},
   "outputs": [
    {
     "ename": "NameError",
     "evalue": "name 'traderv' is not defined",
     "output_type": "error",
     "traceback": [
      "\u001b[0;31m---------------------------------------------------------------------------\u001b[0m",
      "\u001b[0;31mNameError\u001b[0m                                 Traceback (most recent call last)",
      "Cell \u001b[0;32mIn[15], line 1\u001b[0m\n\u001b[0;32m----> 1\u001b[0m prosperity2bt \u001b[38;5;241m<\u001b[39mtraderv\u001b[38;5;241m.\u001b[39mpy\u001b[38;5;241m>\u001b[39m \u001b[38;5;241m0\u001b[39m\n",
      "\u001b[0;31mNameError\u001b[0m: name 'traderv' is not defined"
     ]
    }
   ],
   "source": [
    "prosperity2bt <traderv.py> 0"
   ]
  },
  {
   "cell_type": "code",
   "execution_count": 17,
   "id": "92c37a7e-71ca-45ca-88e5-9149de078969",
   "metadata": {},
   "outputs": [
    {
     "ename": "SyntaxError",
     "evalue": "invalid syntax (1568316418.py, line 1)",
     "output_type": "error",
     "traceback": [
      "\u001b[0;36m  Cell \u001b[0;32mIn[17], line 1\u001b[0;36m\u001b[0m\n\u001b[0;31m    prosperity2bt traderv.py 1\u001b[0m\n\u001b[0m                  ^\u001b[0m\n\u001b[0;31mSyntaxError\u001b[0m\u001b[0;31m:\u001b[0m invalid syntax\n"
     ]
    }
   ],
   "source": [
    "prosperity2bt traderv.py 1"
   ]
  },
  {
   "cell_type": "code",
   "execution_count": null,
   "id": "a83f0b00-8ea9-4dba-9e14-f3be009da8ee",
   "metadata": {},
   "outputs": [],
   "source": []
  }
 ],
 "metadata": {
  "kernelspec": {
   "display_name": "Python (prosperity_env3.12)",
   "language": "python",
   "name": "prosperity_env"
  },
  "language_info": {
   "codemirror_mode": {
    "name": "ipython",
    "version": 3
   },
   "file_extension": ".py",
   "mimetype": "text/x-python",
   "name": "python",
   "nbconvert_exporter": "python",
   "pygments_lexer": "ipython3",
   "version": "3.12.9"
  }
 },
 "nbformat": 4,
 "nbformat_minor": 5
}
