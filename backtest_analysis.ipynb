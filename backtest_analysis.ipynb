{
 "cells": [
  {
   "cell_type": "markdown",
   "metadata": {},
   "source": [
    "# Import"
   ]
  },
  {
   "cell_type": "code",
   "execution_count": 1,
   "metadata": {
    "ExecuteTime": {
     "end_time": "2025-04-08T13:28:23.876527Z",
     "start_time": "2025-04-08T13:28:23.864592Z"
    }
   },
   "outputs": [],
   "source": [
    "import pandas as pd\n",
    "from src.Backtester.backtester import Backtester\n",
    "from datamodel import Listing\n",
    "import statsmodels.api as sm\n",
    "import matplotlib.pyplot as plt\n",
    "from matplotlib.gridspec import GridSpec\n",
    "import itertools\n",
    "import os\n",
    "from tqdm import tqdm\n",
    "import importlib\n",
    "import src.Backtester.Round_2.trader\n",
    "\n",
    "importlib.reload(src.Backtester.Round_2.trader)\n",
    "\n",
    "from src.Backtester.Round_2.trader import Trader"
   ]
  },
  {
   "cell_type": "markdown",
   "metadata": {},
   "source": [
    "# Data"
   ]
  },
  {
   "cell_type": "code",
   "execution_count": 3,
   "metadata": {
    "ExecuteTime": {
     "end_time": "2025-04-08T13:28:23.967541Z",
     "start_time": "2025-04-08T13:28:23.880652Z"
    }
   },
   "outputs": [],
   "source": [
    "def get_prices(round: int, day: int):\n",
    "\n",
    "    path = f\"data/round{round}/prices_round_{round}_day_{day}.csv\"\n",
    "    return pd.read_csv(path, sep=\";\")\n",
    "\n",
    "\n",
    "def get_trades(round: int, day: int):\n",
    "\n",
    "    path = f\"data/round{round}/trades_round_{round}_day_{day}.csv\"\n",
    "    return pd.read_csv(path, sep=\";\")\n",
    "\n",
    "price_frames = []\n",
    "trade_frames = []\n",
    "\n",
    "for day in range(-2, 1):\n",
    "\n",
    "    prices = get_prices(1, day)\n",
    "    trades = get_trades(1, day)\n",
    "    price_frames.append(prices)\n",
    "    trade_frames.append(trades)\n",
    "\n",
    "prices = pd.concat(price_frames, ignore_index=True)\n",
    "trades = pd.concat(trade_frames, ignore_index=True)"
   ]
  },
  {
   "cell_type": "markdown",
   "metadata": {},
   "source": [
    "# Backtest"
   ]
  },
  {
   "cell_type": "code",
   "execution_count": 6,
   "metadata": {
    "ExecuteTime": {
     "end_time": "2025-04-08T14:39:56.872461Z",
     "start_time": "2025-04-08T14:39:43.725320Z"
    }
   },
   "outputs": [],
   "source": [
    "trader = Trader()\n",
    "\n",
    "# optimized\n",
    "\n",
    "import src.Backtester.Round_2.trader\n",
    "\n",
    "importlib.reload(src.Backtester.Round_2.trader)\n",
    "\n",
    "from src.Backtester.Round_2.trader import Trader\n",
    "\n",
    "trader_opt = Trader()\n",
    "\n",
    "position_limit = {\n",
    "    \"RAINFOREST_RESIN\": 50,\n",
    "    \"KELP\": 50,\n",
    "    \"SQUID_INK\": 50\n",
    "\n",
    "}\n",
    "listings = {\n",
    "    \"RAINFOREST_RESIN\": Listing(\"RAINFOREST_RESIN\", \"RAINFOREST_RESIN\", \"SEASHELLS\"),\n",
    "    \"KELP\": Listing(\"KELP\", \"KELP\", \"SEASHELLS\"),\n",
    "    \"SQUID_INK\": Listing(\"SQUID_INK\", \"SQUID_INK\", \"SEASHELLS\"),\n",
    "}\n",
    "\n",
    "\n",
    "fair_marks = {\n",
    "    \"KELP\": lambda order_depth: trader.kelp_fair_value(order_depth, {}),\n",
    "    \"SQUID_INK\": lambda order_depth: trader.squid_ink_fair_value(order_depth, {})\n",
    "}\n",
    "\n",
    "#prices = pd.read_csv(\"../../data/round1/prices_round_1_day_-2.csv\", delimiter=';')\n",
    "#trades = pd.read_csv(\"../../data/round1/trades_round_1_day_-2.csv\", delimiter=';')\n",
    "\n",
    "\n",
    "bt = Backtester(\n",
    "    trader=trader_opt,\n",
    "    listings=listings,\n",
    "    position_limit=position_limit,\n",
    "    fair_marks=fair_marks,\n",
    "    market_data=prices,  # your loaded pandas DataFrame\n",
    "    trade_history=trades,  # your loaded pandas DataFrame\n",
    "    file_name=\"data/tutorial/backtest_results.txt\"\n",
    ")\n",
    "\n",
    "bt.run()"
   ]
  },
  {
   "cell_type": "code",
   "execution_count": 7,
   "metadata": {
    "ExecuteTime": {
     "end_time": "2025-04-08T14:39:56.894198Z",
     "start_time": "2025-04-08T14:39:56.889649Z"
    }
   },
   "outputs": [
    {
     "data": {
      "text/plain": [
       "{'RAINFOREST_RESIN': 31066.0, 'KELP': 4693.5, 'SQUID_INK': 8590.5}"
      ]
     },
     "execution_count": 7,
     "metadata": {},
     "output_type": "execute_result"
    }
   ],
   "source": [
    "bt.pnl"
   ]
  },
  {
   "cell_type": "markdown",
   "metadata": {},
   "source": [
    "# Backtest Analysis"
   ]
  },
  {
   "cell_type": "code",
   "execution_count": 12,
   "metadata": {
    "ExecuteTime": {
     "end_time": "2025-04-08T13:28:37.295267Z",
     "start_time": "2025-04-08T13:28:37.258621Z"
    }
   },
   "outputs": [
    {
     "name": "stdout",
     "output_type": "stream",
     "text": [
      "Reversion Beta: 0.2538173572688437\n",
      "                            OLS Regression Results                            \n",
      "==============================================================================\n",
      "Dep. Variable:                 spread   R-squared:                       0.064\n",
      "Model:                            OLS   Adj. R-squared:                  0.064\n",
      "Method:                 Least Squares   F-statistic:                     1819.\n",
      "Date:                Fri, 11 Apr 2025   Prob (F-statistic):               0.00\n",
      "Time:                        22:31:28   Log-Likelihood:            -1.0671e+05\n",
      "No. Observations:               26411   AIC:                         2.134e+05\n",
      "Df Residuals:                   26409   BIC:                         2.134e+05\n",
      "Df Model:                           1                                         \n",
      "Covariance Type:            nonrobust                                         \n",
      "==============================================================================\n",
      "                 coef    std err          t      P>|t|      [0.025      0.975]\n",
      "------------------------------------------------------------------------------\n",
      "const         -0.3898      0.085     -4.602      0.000      -0.556      -0.224\n",
      "spread_lag     0.2538      0.006     42.644      0.000       0.242       0.265\n",
      "==============================================================================\n",
      "Omnibus:                      512.838   Durbin-Watson:                   2.101\n",
      "Prob(Omnibus):                  0.000   Jarque-Bera (JB):              484.307\n",
      "Skew:                           0.293   Prob(JB):                    6.83e-106\n",
      "Kurtosis:                       2.690   Cond. No.                         14.2\n",
      "==============================================================================\n",
      "\n",
      "Notes:\n",
      "[1] Standard Errors assume that the covariance matrix of the errors is correctly specified.\n"
     ]
    }
   ],
   "source": [
    "def preprocess_data(orderbook, trades):\n",
    "    orderbook = orderbook[['timestamp', 'product', 'mid_price']]\n",
    "    trades = trades[['timestamp', 'symbol', 'price']]\n",
    "    \n",
    "    merged = trades.merge(orderbook, left_on=['timestamp', 'symbol'], right_on=['timestamp', 'product'], how='left')\n",
    "    merged.drop(columns=['product'], inplace=True)\n",
    "    \n",
    "    return merged\n",
    "\n",
    "def calculate_reversion_beta(data):\n",
    "    data['spread'] = data['price'] - data['mid_price']\n",
    "    \n",
    "    data['spread_lag'] = data['spread'].shift(1)\n",
    "    data.dropna(inplace=True)\n",
    "    \n",
    "    # Linear regression spread(t) = beta * spread(t-1)\n",
    "    X = sm.add_constant(data['spread_lag'])  \n",
    "    y = data['spread']\n",
    "    model = sm.OLS(y, X).fit()\n",
    "    \n",
    "    return model.params['spread_lag'], model.summary()\n",
    "\n",
    "\n",
    "data = preprocess_data(prices[prices['product'] == 'KELP'], trades[trades['symbol'] == 'KELP'])\n",
    "reversion_beta, summary = calculate_reversion_beta(data)\n",
    "\n",
    "print(f\"Reversion Beta: {reversion_beta}\")\n",
    "print(summary)"
   ]
  },
  {
   "cell_type": "code",
   "execution_count": null,
   "metadata": {
    "ExecuteTime": {
     "end_time": "2025-04-08T13:28:37.371896Z",
     "start_time": "2025-04-08T13:28:37.356624Z"
    }
   },
   "outputs": [],
   "source": [
    "kelp_data = prices[prices['product'] == 'KELP'].reset_index(drop=True)"
   ]
  },
  {
   "cell_type": "code",
   "execution_count": null,
   "metadata": {
    "ExecuteTime": {
     "end_time": "2025-04-08T13:28:37.955306Z",
     "start_time": "2025-04-08T13:28:37.415103Z"
    }
   },
   "outputs": [],
   "source": [
    "columns_to_plot = ['bid_volume_1', 'bid_volume_2', 'bid_volume_3',\n",
    "                   'ask_volume_1', 'ask_volume_2', 'ask_volume_3']\n",
    "\n",
    "num_plots = len(columns_to_plot)\n",
    "num_rows = (num_plots + 1) // 2\n",
    "num_cols = 2\n",
    "\n",
    "plt.figure(figsize=(12, 4 * num_rows))\n",
    "\n",
    "for i, column in enumerate(columns_to_plot, start=1):\n",
    "    plt.subplot(num_rows, num_cols, i)\n",
    "    \n",
    "    volume_counts = kelp_data[column].value_counts()\n",
    "    \n",
    "    plt.bar(volume_counts.index, volume_counts.values)\n",
    "    plt.xlabel(column)\n",
    "    plt.ylabel('Frequency')\n",
    "    plt.title(f'Histogram of {column}')\n",
    "    plt.xticks(rotation=45)\n",
    "    plt.tight_layout(pad=3.0)\n",
    "\n",
    "plt.show()"
   ]
  },
  {
   "cell_type": "code",
   "execution_count": null,
   "metadata": {
    "ExecuteTime": {
     "end_time": "2025-04-08T13:28:38.499692Z",
     "start_time": "2025-04-08T13:28:37.978344Z"
    }
   },
   "outputs": [],
   "source": [
    "plt.figure(figsize=(12, 4 * num_rows))\n",
    "\n",
    "ink_data = prices[prices['product'] == 'SQUID_INK'].reset_index(drop=True)\n",
    "\n",
    "for i, column in enumerate(columns_to_plot, start=1):\n",
    "    plt.subplot(num_rows, num_cols, i)\n",
    "    \n",
    "    volume_counts = ink_data[column].value_counts()\n",
    "    \n",
    "    plt.bar(volume_counts.index, volume_counts.values)\n",
    "    plt.xlabel(column)\n",
    "    plt.ylabel('Frequency')\n",
    "    plt.title(f'Histogram of {column}')\n",
    "    plt.xticks(rotation=45)\n",
    "    plt.tight_layout(pad=3.0)\n",
    "\n",
    "plt.show()"
   ]
  },
  {
   "cell_type": "code",
   "execution_count": null,
   "metadata": {
    "ExecuteTime": {
     "end_time": "2025-04-08T13:28:38.550889Z",
     "start_time": "2025-04-08T13:28:38.529282Z"
    }
   },
   "outputs": [],
   "source": [
    "data = preprocess_data(prices[prices['product'] == 'SQUID_INK'], trades[trades['symbol'] == 'SQUID_INK'])\n",
    "reversion_beta, summary = calculate_reversion_beta(data)\n",
    "\n",
    "print(f\"Reversion Beta: {reversion_beta}\")\n",
    "print(summary)"
   ]
  },
  {
   "cell_type": "markdown",
   "metadata": {},
   "source": [
    "# Grid Search"
   ]
  },
  {
   "cell_type": "code",
   "execution_count": 14,
   "metadata": {
    "ExecuteTime": {
     "end_time": "2025-04-08T13:28:38.586706Z",
     "start_time": "2025-04-08T13:28:38.574208Z"
    }
   },
   "outputs": [],
   "source": [
    "def generate_param_combinations(param_grid):\n",
    "    param_names = param_grid.keys()\n",
    "    param_values = param_grid.values()\n",
    "    combinations = list(itertools.product(*param_values))\n",
    "    return [dict(zip(param_names, combination)) for combination in combinations]"
   ]
  },
  {
   "cell_type": "code",
   "execution_count": 16,
   "metadata": {
    "ExecuteTime": {
     "end_time": "2025-04-08T13:28:38.638793Z",
     "start_time": "2025-04-08T13:28:38.633946Z"
    }
   },
   "outputs": [],
   "source": [
    "def run_backtests(trader, listings, position_limit, fair_marks, market_data, trade_history, backtest_dir, param_grid, symbol):\n",
    "    if not os.path.exists(backtest_dir):\n",
    "        os.makedirs(backtest_dir)\n",
    "\n",
    "    param_combinations = generate_param_combinations(param_grid[symbol])\n",
    "\n",
    "    results = []\n",
    "    for params in tqdm(param_combinations, desc=f\"Running backtests for {symbol}\", unit=\"backtest\"):\n",
    "        trader.params = {symbol: params}\n",
    "        backtester = Backtester(trader, listings, position_limit, fair_marks, market_data, trade_history)\n",
    "        backtester.run()\n",
    "\n",
    "        param_str = \"-\".join([f\"{key}={value}\" for key, value in params.items()])\n",
    "        log_filename = f\"{backtest_dir}/{symbol}_{param_str}.log\"\n",
    "        backtester._log_trades(log_filename)\n",
    "\n",
    "        results.append((params, backtester.pnl[symbol]))\n",
    "\n",
    "    return results"
   ]
  },
  {
   "cell_type": "code",
   "execution_count": 24,
   "metadata": {
    "ExecuteTime": {
     "end_time": "2025-04-08T13:28:38.671134Z",
     "start_time": "2025-04-08T13:28:38.665144Z"
    }
   },
   "outputs": [],
   "source": [
    "def calculate_kelp_fair(order_depth):\n",
    "    # assumes order_depth has orders in it \n",
    "    best_ask = min(order_depth.sell_orders.keys())\n",
    "    best_bid = max(order_depth.buy_orders.keys())\n",
    "    filtered_ask = [price for price in order_depth.sell_orders.keys() if abs(order_depth.sell_orders[price]) >= 15]\n",
    "    filtered_bid = [price for price in order_depth.buy_orders.keys() if abs(order_depth.buy_orders[price]) >= 15]\n",
    "    mm_ask = min(filtered_ask) if len(filtered_ask) > 0 else best_ask\n",
    "    mm_bid = max(filtered_bid) if len(filtered_bid) > 0 else best_bid\n",
    "\n",
    "    mmmid_price = (mm_ask + mm_bid) / 2\n",
    "    return mmmid_price\n",
    "\n",
    "def calculate_ink_fair(order_depth):\n",
    "    # assumes order_depth has orders in it \n",
    "    best_ask = min(order_depth.sell_orders.keys())\n",
    "    best_bid = max(order_depth.buy_orders.keys())\n",
    "    filtered_ask = [price for price in order_depth.sell_orders.keys() if abs(order_depth.sell_orders[price]) >= 15]\n",
    "    filtered_bid = [price for price in order_depth.buy_orders.keys() if abs(order_depth.buy_orders[price]) >= 15]\n",
    "    mm_ask = min(filtered_ask) if len(filtered_ask) > 0 else best_ask\n",
    "    mm_bid = max(filtered_bid) if len(filtered_bid) > 0 else best_bid\n",
    "\n",
    "    mmmid_price = (mm_ask + mm_bid) / 2\n",
    "    return mmmid_price\n",
    "    \n",
    "def calculate_resin_fair(order_depth):\n",
    "    return 10000"
   ]
  },
  {
   "cell_type": "code",
   "execution_count": 26,
   "metadata": {
    "ExecuteTime": {
     "end_time": "2025-04-08T13:28:38.698065Z",
     "start_time": "2025-04-08T13:28:38.693999Z"
    }
   },
   "outputs": [],
   "source": [
    "position_limit = {\n",
    "    \"RAINFOREST_RESIN\": 50,\n",
    "    \"KELP\": 50,\n",
    "    \"SQUID_INK\": 50\n",
    "}\n",
    "\n",
    "listings = {\n",
    "    'RAINFOREST_RESIN': Listing(symbol='RAINFOREST_RESIN', product='RAINFOREST_RESIN', denomination='SEASHELLS'),\n",
    "    'KELP': Listing(symbol='KELP', product='KELP', denomination='SEASHELLS'),\n",
    "    \"SQUID_INK\": Listing(symbol=\"SQUID_INK\", product=\"SQUID_INK\", denomination=\"SEASHELLS\"),\n",
    "}\n",
    "\n",
    "fair_calculations = {\n",
    "    \"RAINFOREST_RESIN\": calculate_resin_fair,\n",
    "    \"KELP\": calculate_kelp_fair,\n",
    "    \"SQUID_INK\": calculate_ink_fair\n",
    "}\n",
    "\n",
    "#fair_marks = {\n",
    "#    \"RAINFOREST_RESIN\": lambda order_depth: 10000,\n",
    "#    \"KELP\": lambda order_depth: trader.kelp_fair_value(order_depth, {}),\n",
    "#    \"SQUID_INK\": lambda order_depth: trader.ink_fair_value(order_depth, {})}"
   ]
  },
  {
   "cell_type": "code",
   "execution_count": 28,
   "metadata": {
    "ExecuteTime": {
     "end_time": "2025-04-08T13:58:21.294167Z",
     "start_time": "2025-04-08T13:58:21.288814Z"
    }
   },
   "outputs": [
    {
     "name": "stdout",
     "output_type": "stream",
     "text": [
      "{'RAINFOREST_RESIN': {'fair_value': 10000, 'take_width': 1, 'clear_width': 0, 'disregard_edge': 1, 'join_edge': 2, 'default_edge': 4, 'soft_position_limit': 50}, 'KELP': {'take_width': 1, 'clear_width': 0, 'prevent_adverse': True, 'adverse_volume': 15, 'reversion_beta': -0.48, 'disregard_edge': 1, 'join_edge': 1, 'default_edge': 2}, 'SQUID_INK': {'take_width': 1, 'clear_width': 0, 'prevent_adverse': True, 'adverse_volume': 10, 'reversion_beta': -0.18, 'disregard_edge': 1, 'join_edge': 1, 'default_edge': 1, 'arima_window': 15, 'price_momentum_factor': 0.2, 'optimal_z': 3, 'scaling_pct': 0.01}, 'SPREAD1': {'default_spread_mean': 45, 'default_spread_std': 82, 'spread_std_window': 45, 'zscore_threshold': 7, 'target_position': 58}, 'SPREAD2': {'default_spread_mean': 379.50439988484237, 'default_spread_std': 55, 'spread_std_window': 45, 'zscore_threshold': 7, 'target_position': 95}}\n"
     ]
    }
   ],
   "source": [
    "backtest_dir = \"../../Round 1/backtest_test_clear_width\"\n",
    "\n",
    "param_grid = {\n",
    "    \"RAINFOREST_RESIN\": {\n",
    "        \"fair_value\": [10000],\n",
    "        \"take_width\": [1, 2],\n",
    "        \"clear_width\": [0, 0.5],\n",
    "        \"volume_limit\": [0],\n",
    "        # for making\n",
    "        \"disregard_edge\": [1],  # disregards orders for joining or pennying within this value from fair\n",
    "        \"join_edge\": [2],# joins orders within this edge \n",
    "        \"default_edge\": [2, 3, 4],\n",
    "        \"soft_position_limit\": [10, 12],\n",
    "    },\n",
    "    \"KELP\": {\n",
    "    \"take_width\": [1],\n",
    "    \"clear_width\": [0, -0.25],\n",
    "    \"prevent_adverse\": [True],\n",
    "    \"adverse_volume\": [15, 16, 17, 18, 19, 20],\n",
    "    \"reversion_beta\": [-0.229],\n",
    "\n",
    "    # for making\n",
    "    \"disregard_edge\": [1],\n",
    "    \"join_edge\": [2, 3],\n",
    "    \"default_edge\": [4, 5],\n",
    "\n",
    "    # AR(2) model parameters for fair value prediction\n",
    "    \"arima_window\": [30],\n",
    "    \"auto_reg_1\": [0.9],\n",
    "    \"auto_reg_2\":  [0.7],\n",
    "    },\n",
    "    \"SQUID_INK\": {\n",
    "        \"take_width\": [1],\n",
    "        \"clear_width\": [0, -0.25],\n",
    "        \"prevent_adverse\": [True],\n",
    "        \"adverse_volume\": [15, 16, 17, 18, 19, 20],\n",
    "        \"reversion_beta\": [-0.25],\n",
    "        # for making\n",
    "        \"disregard_edge\": [1],\n",
    "        \"join_edge\": [2, 3],\n",
    "        \"default_edge\": [4, 5],\n",
    "        # AR(2) model parameters for fair value prediction\n",
    "        \"arima_window\": [30],\n",
    "        \"auto_reg_1\": [0.9],\n",
    "        \"auto_reg_2\":  [0.7],\n",
    "        }\n",
    "}\n",
    "\n",
    "\n",
    "trader = Trader()\n",
    "print(trader.params)"
   ]
  },
  {
   "cell_type": "markdown",
   "metadata": {},
   "source": [
    "## GridSearch RainForest"
   ]
  },
  {
   "cell_type": "code",
   "execution_count": null,
   "metadata": {
    "ExecuteTime": {
     "end_time": "2025-04-08T14:03:27.942180Z",
     "start_time": "2025-04-08T13:58:39.937222Z"
    }
   },
   "outputs": [],
   "source": [
    "resin_results = run_backtests(trader, listings, position_limit, fair_calculations, prices, trades, backtest_dir, param_grid, \"RAINFOREST_RESIN\")\n",
    "print(\"RAINFOREST_RESIN results:\")\n",
    "for params, pnl in resin_results: \n",
    "    print(params)\n",
    "    print(f\"pnl: {pnl}\")\n",
    "    print(\"=\"*80)"
   ]
  },
  {
   "cell_type": "code",
   "execution_count": null,
   "metadata": {
    "ExecuteTime": {
     "end_time": "2025-04-08T14:03:27.989057Z",
     "start_time": "2025-04-08T14:03:27.984049Z"
    }
   },
   "outputs": [],
   "source": [
    "sorted_resin_results = sorted(resin_results, key=lambda x: x[1], reverse=True)\n",
    "sorted_resin_results[0:100]"
   ]
  },
  {
   "cell_type": "markdown",
   "metadata": {},
   "source": [
    "## Kelp GridSearch"
   ]
  },
  {
   "cell_type": "code",
   "execution_count": null,
   "metadata": {
    "ExecuteTime": {
     "end_time": "2025-04-08T14:13:19.614611Z",
     "start_time": "2025-04-08T14:03:28.050994Z"
    }
   },
   "outputs": [],
   "source": [
    "kelp_results = run_backtests(trader, listings, position_limit, fair_calculations, prices, trades, backtest_dir, param_grid, \"KELP\")\n",
    "print(\"KELP results:\")\n",
    "for params, pnl in kelp_results: \n",
    "    print(params)\n",
    "    print(f\"pnl: {pnl}\")\n",
    "    print(\"=\"*80)"
   ]
  },
  {
   "cell_type": "code",
   "execution_count": null,
   "metadata": {
    "ExecuteTime": {
     "end_time": "2025-04-08T14:13:19.686703Z",
     "start_time": "2025-04-08T14:13:19.679352Z"
    }
   },
   "outputs": [],
   "source": [
    "sorted_kelp_results = sorted(kelp_results, key=lambda x: x[1], reverse=True)\n",
    "sorted_kelp_results[0:100]"
   ]
  },
  {
   "cell_type": "markdown",
   "metadata": {},
   "source": [
    "## GridSearch Ink"
   ]
  },
  {
   "cell_type": "code",
   "execution_count": null,
   "metadata": {
    "ExecuteTime": {
     "end_time": "2025-04-08T14:23:16.116568Z",
     "start_time": "2025-04-08T14:13:19.726205Z"
    }
   },
   "outputs": [],
   "source": [
    "ink_results = run_backtests(trader, listings, position_limit, fair_calculations, prices, trades, backtest_dir, param_grid_AR, \"SQUID_INK\")\n",
    "print(\"SQUID_INK results:\")\n",
    "for params, pnl in ink_results: \n",
    "    print(params)\n",
    "    print(f\"pnl: {pnl}\")\n",
    "    print(\"=\"*80)"
   ]
  },
  {
   "cell_type": "code",
   "execution_count": null,
   "metadata": {
    "ExecuteTime": {
     "end_time": "2025-04-08T14:23:16.183020Z",
     "start_time": "2025-04-08T14:23:16.176400Z"
    }
   },
   "outputs": [],
   "source": [
    "sorted_ink_results = sorted(ink_results, key=lambda x: x[1], reverse=True)\n",
    "sorted_ink_results[0:100]"
   ]
  },
  {
   "cell_type": "markdown",
   "metadata": {},
   "source": [
    "## Grid Search AR params"
   ]
  },
  {
   "cell_type": "code",
   "execution_count": 30,
   "metadata": {
    "ExecuteTime": {
     "end_time": "2025-04-08T14:25:04.333475Z",
     "start_time": "2025-04-08T14:25:04.317635Z"
    }
   },
   "outputs": [],
   "source": [
    "param_grid_AR = {\"KELP\":\n",
    "                        {'take_width': [1],\n",
    "                       'clear_width': [-0.25],\n",
    "                       'prevent_adverse': [True],\n",
    "                       'adverse_volume': [19],\n",
    "                       'reversion_beta': [-0.8, -0.6, -0.4, -0.2, 0.1, 0.2,  0.4, 0.6, 0.8],\n",
    "                       'disregard_edge': [1],\n",
    "                       'join_edge': [3],\n",
    "                       'default_edge': [4],\n",
    "                       'arima_window': [30, 40],\n",
    "                       'auto_reg_1': [-0.8, -0.6, -0.4, -0.2, 0.1, 0.2,  0.4, 0.6, 0.8],\n",
    "                       'auto_reg_2': [-0.5, 0.5]},\n",
    "                 \"SQUID_INK\":\n",
    "                        {'take_width': [1],\n",
    "                       'clear_width': [-0.25],\n",
    "                       'prevent_adverse': [True],\n",
    "                       'adverse_volume': [10],\n",
    "                       'reversion_beta': [-0.2],\n",
    "                       'disregard_edge': [1],\n",
    "                       'join_edge': [1],\n",
    "                       'default_edge': [1],\n",
    "                       'arima_window': [15],\n",
    "                       'price_momentum_factor': [0.2],\n",
    "                       'optimal_z':[1,2,3,5,8,10],\n",
    "                       'scaling_pct':[0.01, 0.05, 0.1, 0.2]\n",
    "      \n",
    "                         \n",
    "                       }\n",
    "                 }"
   ]
  },
  {
   "cell_type": "code",
   "execution_count": null,
   "metadata": {
    "ExecuteTime": {
     "end_time": "2025-04-08T14:31:58.908684Z",
     "start_time": "2025-04-08T14:25:05.516332Z"
    }
   },
   "outputs": [],
   "source": [
    "kelp_results = run_backtests(trader, listings, position_limit, fair_calculations, prices, trades, backtest_dir, param_grid_AR, \"KELP\")\n",
    "print(\"KELP results:\")\n",
    "for params, pnl in kelp_results:\n",
    "    print(params)\n",
    "    print(f\"pnl: {pnl}\")\n",
    "    print(\"=\"*80)"
   ]
  },
  {
   "cell_type": "code",
   "execution_count": null,
   "metadata": {
    "ExecuteTime": {
     "end_time": "2025-04-08T14:32:02.365985Z",
     "start_time": "2025-04-08T14:32:02.351404Z"
    }
   },
   "outputs": [],
   "source": [
    "sorted_kelp_results = sorted(kelp_results, key=lambda x: x[1], reverse=True)\n",
    "sorted_kelp_results[0:100]"
   ]
  },
  {
   "cell_type": "code",
   "execution_count": 32,
   "metadata": {
    "ExecuteTime": {
     "end_time": "2025-04-08T14:39:06.634067Z",
     "start_time": "2025-04-08T14:32:30.641179Z"
    }
   },
   "outputs": [
    {
     "name": "stderr",
     "output_type": "stream",
     "text": [
      "Running backtests for SQUID_INK: 100%|████| 24/24 [04:15<00:00, 10.63s/backtest]"
     ]
    },
    {
     "name": "stdout",
     "output_type": "stream",
     "text": [
      "SQUID_INK results:\n",
      "{'take_width': 1, 'clear_width': -0.25, 'prevent_adverse': True, 'adverse_volume': 10, 'reversion_beta': -0.2, 'disregard_edge': 1, 'join_edge': 1, 'default_edge': 1, 'arima_window': 15, 'price_momentum_factor': 0.2, 'optimal_z': 1, 'scaling_pct': 0.01}\n",
      "pnl: -22215.5\n",
      "================================================================================\n",
      "{'take_width': 1, 'clear_width': -0.25, 'prevent_adverse': True, 'adverse_volume': 10, 'reversion_beta': -0.2, 'disregard_edge': 1, 'join_edge': 1, 'default_edge': 1, 'arima_window': 15, 'price_momentum_factor': 0.2, 'optimal_z': 1, 'scaling_pct': 0.05}\n",
      "pnl: -22215.5\n",
      "================================================================================\n",
      "{'take_width': 1, 'clear_width': -0.25, 'prevent_adverse': True, 'adverse_volume': 10, 'reversion_beta': -0.2, 'disregard_edge': 1, 'join_edge': 1, 'default_edge': 1, 'arima_window': 15, 'price_momentum_factor': 0.2, 'optimal_z': 1, 'scaling_pct': 0.1}\n",
      "pnl: -22215.5\n",
      "================================================================================\n",
      "{'take_width': 1, 'clear_width': -0.25, 'prevent_adverse': True, 'adverse_volume': 10, 'reversion_beta': -0.2, 'disregard_edge': 1, 'join_edge': 1, 'default_edge': 1, 'arima_window': 15, 'price_momentum_factor': 0.2, 'optimal_z': 1, 'scaling_pct': 0.2}\n",
      "pnl: -22215.5\n",
      "================================================================================\n",
      "{'take_width': 1, 'clear_width': -0.25, 'prevent_adverse': True, 'adverse_volume': 10, 'reversion_beta': -0.2, 'disregard_edge': 1, 'join_edge': 1, 'default_edge': 1, 'arima_window': 15, 'price_momentum_factor': 0.2, 'optimal_z': 2, 'scaling_pct': 0.01}\n",
      "pnl: 3898.5\n",
      "================================================================================\n",
      "{'take_width': 1, 'clear_width': -0.25, 'prevent_adverse': True, 'adverse_volume': 10, 'reversion_beta': -0.2, 'disregard_edge': 1, 'join_edge': 1, 'default_edge': 1, 'arima_window': 15, 'price_momentum_factor': 0.2, 'optimal_z': 2, 'scaling_pct': 0.05}\n",
      "pnl: 3898.5\n",
      "================================================================================\n",
      "{'take_width': 1, 'clear_width': -0.25, 'prevent_adverse': True, 'adverse_volume': 10, 'reversion_beta': -0.2, 'disregard_edge': 1, 'join_edge': 1, 'default_edge': 1, 'arima_window': 15, 'price_momentum_factor': 0.2, 'optimal_z': 2, 'scaling_pct': 0.1}\n",
      "pnl: 3898.5\n",
      "================================================================================\n",
      "{'take_width': 1, 'clear_width': -0.25, 'prevent_adverse': True, 'adverse_volume': 10, 'reversion_beta': -0.2, 'disregard_edge': 1, 'join_edge': 1, 'default_edge': 1, 'arima_window': 15, 'price_momentum_factor': 0.2, 'optimal_z': 2, 'scaling_pct': 0.2}\n",
      "pnl: 3898.5\n",
      "================================================================================\n",
      "{'take_width': 1, 'clear_width': -0.25, 'prevent_adverse': True, 'adverse_volume': 10, 'reversion_beta': -0.2, 'disregard_edge': 1, 'join_edge': 1, 'default_edge': 1, 'arima_window': 15, 'price_momentum_factor': 0.2, 'optimal_z': 3, 'scaling_pct': 0.01}\n",
      "pnl: 8846.5\n",
      "================================================================================\n",
      "{'take_width': 1, 'clear_width': -0.25, 'prevent_adverse': True, 'adverse_volume': 10, 'reversion_beta': -0.2, 'disregard_edge': 1, 'join_edge': 1, 'default_edge': 1, 'arima_window': 15, 'price_momentum_factor': 0.2, 'optimal_z': 3, 'scaling_pct': 0.05}\n",
      "pnl: 8846.5\n",
      "================================================================================\n",
      "{'take_width': 1, 'clear_width': -0.25, 'prevent_adverse': True, 'adverse_volume': 10, 'reversion_beta': -0.2, 'disregard_edge': 1, 'join_edge': 1, 'default_edge': 1, 'arima_window': 15, 'price_momentum_factor': 0.2, 'optimal_z': 3, 'scaling_pct': 0.1}\n",
      "pnl: 8846.5\n",
      "================================================================================\n",
      "{'take_width': 1, 'clear_width': -0.25, 'prevent_adverse': True, 'adverse_volume': 10, 'reversion_beta': -0.2, 'disregard_edge': 1, 'join_edge': 1, 'default_edge': 1, 'arima_window': 15, 'price_momentum_factor': 0.2, 'optimal_z': 3, 'scaling_pct': 0.2}\n",
      "pnl: 8846.5\n",
      "================================================================================\n",
      "{'take_width': 1, 'clear_width': -0.25, 'prevent_adverse': True, 'adverse_volume': 10, 'reversion_beta': -0.2, 'disregard_edge': 1, 'join_edge': 1, 'default_edge': 1, 'arima_window': 15, 'price_momentum_factor': 0.2, 'optimal_z': 5, 'scaling_pct': 0.01}\n",
      "pnl: 9429.5\n",
      "================================================================================\n",
      "{'take_width': 1, 'clear_width': -0.25, 'prevent_adverse': True, 'adverse_volume': 10, 'reversion_beta': -0.2, 'disregard_edge': 1, 'join_edge': 1, 'default_edge': 1, 'arima_window': 15, 'price_momentum_factor': 0.2, 'optimal_z': 5, 'scaling_pct': 0.05}\n",
      "pnl: 9429.5\n",
      "================================================================================\n",
      "{'take_width': 1, 'clear_width': -0.25, 'prevent_adverse': True, 'adverse_volume': 10, 'reversion_beta': -0.2, 'disregard_edge': 1, 'join_edge': 1, 'default_edge': 1, 'arima_window': 15, 'price_momentum_factor': 0.2, 'optimal_z': 5, 'scaling_pct': 0.1}\n",
      "pnl: 9429.5\n",
      "================================================================================\n",
      "{'take_width': 1, 'clear_width': -0.25, 'prevent_adverse': True, 'adverse_volume': 10, 'reversion_beta': -0.2, 'disregard_edge': 1, 'join_edge': 1, 'default_edge': 1, 'arima_window': 15, 'price_momentum_factor': 0.2, 'optimal_z': 5, 'scaling_pct': 0.2}\n",
      "pnl: 9429.5\n",
      "================================================================================\n",
      "{'take_width': 1, 'clear_width': -0.25, 'prevent_adverse': True, 'adverse_volume': 10, 'reversion_beta': -0.2, 'disregard_edge': 1, 'join_edge': 1, 'default_edge': 1, 'arima_window': 15, 'price_momentum_factor': 0.2, 'optimal_z': 8, 'scaling_pct': 0.01}\n",
      "pnl: 9429.5\n",
      "================================================================================\n",
      "{'take_width': 1, 'clear_width': -0.25, 'prevent_adverse': True, 'adverse_volume': 10, 'reversion_beta': -0.2, 'disregard_edge': 1, 'join_edge': 1, 'default_edge': 1, 'arima_window': 15, 'price_momentum_factor': 0.2, 'optimal_z': 8, 'scaling_pct': 0.05}\n",
      "pnl: 9429.5\n",
      "================================================================================\n",
      "{'take_width': 1, 'clear_width': -0.25, 'prevent_adverse': True, 'adverse_volume': 10, 'reversion_beta': -0.2, 'disregard_edge': 1, 'join_edge': 1, 'default_edge': 1, 'arima_window': 15, 'price_momentum_factor': 0.2, 'optimal_z': 8, 'scaling_pct': 0.1}\n",
      "pnl: 9429.5\n",
      "================================================================================\n",
      "{'take_width': 1, 'clear_width': -0.25, 'prevent_adverse': True, 'adverse_volume': 10, 'reversion_beta': -0.2, 'disregard_edge': 1, 'join_edge': 1, 'default_edge': 1, 'arima_window': 15, 'price_momentum_factor': 0.2, 'optimal_z': 8, 'scaling_pct': 0.2}\n",
      "pnl: 9429.5\n",
      "================================================================================\n",
      "{'take_width': 1, 'clear_width': -0.25, 'prevent_adverse': True, 'adverse_volume': 10, 'reversion_beta': -0.2, 'disregard_edge': 1, 'join_edge': 1, 'default_edge': 1, 'arima_window': 15, 'price_momentum_factor': 0.2, 'optimal_z': 10, 'scaling_pct': 0.01}\n",
      "pnl: 9429.5\n",
      "================================================================================\n",
      "{'take_width': 1, 'clear_width': -0.25, 'prevent_adverse': True, 'adverse_volume': 10, 'reversion_beta': -0.2, 'disregard_edge': 1, 'join_edge': 1, 'default_edge': 1, 'arima_window': 15, 'price_momentum_factor': 0.2, 'optimal_z': 10, 'scaling_pct': 0.05}\n",
      "pnl: 9429.5\n",
      "================================================================================\n",
      "{'take_width': 1, 'clear_width': -0.25, 'prevent_adverse': True, 'adverse_volume': 10, 'reversion_beta': -0.2, 'disregard_edge': 1, 'join_edge': 1, 'default_edge': 1, 'arima_window': 15, 'price_momentum_factor': 0.2, 'optimal_z': 10, 'scaling_pct': 0.1}\n",
      "pnl: 9429.5\n",
      "================================================================================\n",
      "{'take_width': 1, 'clear_width': -0.25, 'prevent_adverse': True, 'adverse_volume': 10, 'reversion_beta': -0.2, 'disregard_edge': 1, 'join_edge': 1, 'default_edge': 1, 'arima_window': 15, 'price_momentum_factor': 0.2, 'optimal_z': 10, 'scaling_pct': 0.2}\n",
      "pnl: 9429.5\n",
      "================================================================================\n"
     ]
    },
    {
     "name": "stderr",
     "output_type": "stream",
     "text": [
      "\n"
     ]
    }
   ],
   "source": [
    "ink_results = run_backtests(trader, listings, position_limit, fair_calculations, prices, trades, backtest_dir, param_grid_AR, \"SQUID_INK\")\n",
    "print(\"SQUID_INK results:\")\n",
    "for params, pnl in ink_results:\n",
    "    print(params)\n",
    "    print(f\"pnl: {pnl}\")\n",
    "    print(\"=\"*80)"
   ]
  },
  {
   "cell_type": "code",
   "execution_count": 34,
   "metadata": {
    "ExecuteTime": {
     "end_time": "2025-04-08T14:39:06.683957Z",
     "start_time": "2025-04-08T14:39:06.673898Z"
    }
   },
   "outputs": [
    {
     "data": {
      "text/plain": [
       "[({'take_width': 1,\n",
       "   'clear_width': -0.25,\n",
       "   'prevent_adverse': True,\n",
       "   'adverse_volume': 10,\n",
       "   'reversion_beta': -0.2,\n",
       "   'disregard_edge': 1,\n",
       "   'join_edge': 1,\n",
       "   'default_edge': 1,\n",
       "   'arima_window': 15,\n",
       "   'price_momentum_factor': 0.2,\n",
       "   'optimal_z': 5,\n",
       "   'scaling_pct': 0.01},\n",
       "  9429.5),\n",
       " ({'take_width': 1,\n",
       "   'clear_width': -0.25,\n",
       "   'prevent_adverse': True,\n",
       "   'adverse_volume': 10,\n",
       "   'reversion_beta': -0.2,\n",
       "   'disregard_edge': 1,\n",
       "   'join_edge': 1,\n",
       "   'default_edge': 1,\n",
       "   'arima_window': 15,\n",
       "   'price_momentum_factor': 0.2,\n",
       "   'optimal_z': 5,\n",
       "   'scaling_pct': 0.05},\n",
       "  9429.5),\n",
       " ({'take_width': 1,\n",
       "   'clear_width': -0.25,\n",
       "   'prevent_adverse': True,\n",
       "   'adverse_volume': 10,\n",
       "   'reversion_beta': -0.2,\n",
       "   'disregard_edge': 1,\n",
       "   'join_edge': 1,\n",
       "   'default_edge': 1,\n",
       "   'arima_window': 15,\n",
       "   'price_momentum_factor': 0.2,\n",
       "   'optimal_z': 5,\n",
       "   'scaling_pct': 0.1},\n",
       "  9429.5),\n",
       " ({'take_width': 1,\n",
       "   'clear_width': -0.25,\n",
       "   'prevent_adverse': True,\n",
       "   'adverse_volume': 10,\n",
       "   'reversion_beta': -0.2,\n",
       "   'disregard_edge': 1,\n",
       "   'join_edge': 1,\n",
       "   'default_edge': 1,\n",
       "   'arima_window': 15,\n",
       "   'price_momentum_factor': 0.2,\n",
       "   'optimal_z': 5,\n",
       "   'scaling_pct': 0.2},\n",
       "  9429.5),\n",
       " ({'take_width': 1,\n",
       "   'clear_width': -0.25,\n",
       "   'prevent_adverse': True,\n",
       "   'adverse_volume': 10,\n",
       "   'reversion_beta': -0.2,\n",
       "   'disregard_edge': 1,\n",
       "   'join_edge': 1,\n",
       "   'default_edge': 1,\n",
       "   'arima_window': 15,\n",
       "   'price_momentum_factor': 0.2,\n",
       "   'optimal_z': 8,\n",
       "   'scaling_pct': 0.01},\n",
       "  9429.5),\n",
       " ({'take_width': 1,\n",
       "   'clear_width': -0.25,\n",
       "   'prevent_adverse': True,\n",
       "   'adverse_volume': 10,\n",
       "   'reversion_beta': -0.2,\n",
       "   'disregard_edge': 1,\n",
       "   'join_edge': 1,\n",
       "   'default_edge': 1,\n",
       "   'arima_window': 15,\n",
       "   'price_momentum_factor': 0.2,\n",
       "   'optimal_z': 8,\n",
       "   'scaling_pct': 0.05},\n",
       "  9429.5),\n",
       " ({'take_width': 1,\n",
       "   'clear_width': -0.25,\n",
       "   'prevent_adverse': True,\n",
       "   'adverse_volume': 10,\n",
       "   'reversion_beta': -0.2,\n",
       "   'disregard_edge': 1,\n",
       "   'join_edge': 1,\n",
       "   'default_edge': 1,\n",
       "   'arima_window': 15,\n",
       "   'price_momentum_factor': 0.2,\n",
       "   'optimal_z': 8,\n",
       "   'scaling_pct': 0.1},\n",
       "  9429.5),\n",
       " ({'take_width': 1,\n",
       "   'clear_width': -0.25,\n",
       "   'prevent_adverse': True,\n",
       "   'adverse_volume': 10,\n",
       "   'reversion_beta': -0.2,\n",
       "   'disregard_edge': 1,\n",
       "   'join_edge': 1,\n",
       "   'default_edge': 1,\n",
       "   'arima_window': 15,\n",
       "   'price_momentum_factor': 0.2,\n",
       "   'optimal_z': 8,\n",
       "   'scaling_pct': 0.2},\n",
       "  9429.5),\n",
       " ({'take_width': 1,\n",
       "   'clear_width': -0.25,\n",
       "   'prevent_adverse': True,\n",
       "   'adverse_volume': 10,\n",
       "   'reversion_beta': -0.2,\n",
       "   'disregard_edge': 1,\n",
       "   'join_edge': 1,\n",
       "   'default_edge': 1,\n",
       "   'arima_window': 15,\n",
       "   'price_momentum_factor': 0.2,\n",
       "   'optimal_z': 10,\n",
       "   'scaling_pct': 0.01},\n",
       "  9429.5),\n",
       " ({'take_width': 1,\n",
       "   'clear_width': -0.25,\n",
       "   'prevent_adverse': True,\n",
       "   'adverse_volume': 10,\n",
       "   'reversion_beta': -0.2,\n",
       "   'disregard_edge': 1,\n",
       "   'join_edge': 1,\n",
       "   'default_edge': 1,\n",
       "   'arima_window': 15,\n",
       "   'price_momentum_factor': 0.2,\n",
       "   'optimal_z': 10,\n",
       "   'scaling_pct': 0.05},\n",
       "  9429.5),\n",
       " ({'take_width': 1,\n",
       "   'clear_width': -0.25,\n",
       "   'prevent_adverse': True,\n",
       "   'adverse_volume': 10,\n",
       "   'reversion_beta': -0.2,\n",
       "   'disregard_edge': 1,\n",
       "   'join_edge': 1,\n",
       "   'default_edge': 1,\n",
       "   'arima_window': 15,\n",
       "   'price_momentum_factor': 0.2,\n",
       "   'optimal_z': 10,\n",
       "   'scaling_pct': 0.1},\n",
       "  9429.5),\n",
       " ({'take_width': 1,\n",
       "   'clear_width': -0.25,\n",
       "   'prevent_adverse': True,\n",
       "   'adverse_volume': 10,\n",
       "   'reversion_beta': -0.2,\n",
       "   'disregard_edge': 1,\n",
       "   'join_edge': 1,\n",
       "   'default_edge': 1,\n",
       "   'arima_window': 15,\n",
       "   'price_momentum_factor': 0.2,\n",
       "   'optimal_z': 10,\n",
       "   'scaling_pct': 0.2},\n",
       "  9429.5),\n",
       " ({'take_width': 1,\n",
       "   'clear_width': -0.25,\n",
       "   'prevent_adverse': True,\n",
       "   'adverse_volume': 10,\n",
       "   'reversion_beta': -0.2,\n",
       "   'disregard_edge': 1,\n",
       "   'join_edge': 1,\n",
       "   'default_edge': 1,\n",
       "   'arima_window': 15,\n",
       "   'price_momentum_factor': 0.2,\n",
       "   'optimal_z': 3,\n",
       "   'scaling_pct': 0.01},\n",
       "  8846.5),\n",
       " ({'take_width': 1,\n",
       "   'clear_width': -0.25,\n",
       "   'prevent_adverse': True,\n",
       "   'adverse_volume': 10,\n",
       "   'reversion_beta': -0.2,\n",
       "   'disregard_edge': 1,\n",
       "   'join_edge': 1,\n",
       "   'default_edge': 1,\n",
       "   'arima_window': 15,\n",
       "   'price_momentum_factor': 0.2,\n",
       "   'optimal_z': 3,\n",
       "   'scaling_pct': 0.05},\n",
       "  8846.5),\n",
       " ({'take_width': 1,\n",
       "   'clear_width': -0.25,\n",
       "   'prevent_adverse': True,\n",
       "   'adverse_volume': 10,\n",
       "   'reversion_beta': -0.2,\n",
       "   'disregard_edge': 1,\n",
       "   'join_edge': 1,\n",
       "   'default_edge': 1,\n",
       "   'arima_window': 15,\n",
       "   'price_momentum_factor': 0.2,\n",
       "   'optimal_z': 3,\n",
       "   'scaling_pct': 0.1},\n",
       "  8846.5),\n",
       " ({'take_width': 1,\n",
       "   'clear_width': -0.25,\n",
       "   'prevent_adverse': True,\n",
       "   'adverse_volume': 10,\n",
       "   'reversion_beta': -0.2,\n",
       "   'disregard_edge': 1,\n",
       "   'join_edge': 1,\n",
       "   'default_edge': 1,\n",
       "   'arima_window': 15,\n",
       "   'price_momentum_factor': 0.2,\n",
       "   'optimal_z': 3,\n",
       "   'scaling_pct': 0.2},\n",
       "  8846.5),\n",
       " ({'take_width': 1,\n",
       "   'clear_width': -0.25,\n",
       "   'prevent_adverse': True,\n",
       "   'adverse_volume': 10,\n",
       "   'reversion_beta': -0.2,\n",
       "   'disregard_edge': 1,\n",
       "   'join_edge': 1,\n",
       "   'default_edge': 1,\n",
       "   'arima_window': 15,\n",
       "   'price_momentum_factor': 0.2,\n",
       "   'optimal_z': 2,\n",
       "   'scaling_pct': 0.01},\n",
       "  3898.5),\n",
       " ({'take_width': 1,\n",
       "   'clear_width': -0.25,\n",
       "   'prevent_adverse': True,\n",
       "   'adverse_volume': 10,\n",
       "   'reversion_beta': -0.2,\n",
       "   'disregard_edge': 1,\n",
       "   'join_edge': 1,\n",
       "   'default_edge': 1,\n",
       "   'arima_window': 15,\n",
       "   'price_momentum_factor': 0.2,\n",
       "   'optimal_z': 2,\n",
       "   'scaling_pct': 0.05},\n",
       "  3898.5),\n",
       " ({'take_width': 1,\n",
       "   'clear_width': -0.25,\n",
       "   'prevent_adverse': True,\n",
       "   'adverse_volume': 10,\n",
       "   'reversion_beta': -0.2,\n",
       "   'disregard_edge': 1,\n",
       "   'join_edge': 1,\n",
       "   'default_edge': 1,\n",
       "   'arima_window': 15,\n",
       "   'price_momentum_factor': 0.2,\n",
       "   'optimal_z': 2,\n",
       "   'scaling_pct': 0.1},\n",
       "  3898.5),\n",
       " ({'take_width': 1,\n",
       "   'clear_width': -0.25,\n",
       "   'prevent_adverse': True,\n",
       "   'adverse_volume': 10,\n",
       "   'reversion_beta': -0.2,\n",
       "   'disregard_edge': 1,\n",
       "   'join_edge': 1,\n",
       "   'default_edge': 1,\n",
       "   'arima_window': 15,\n",
       "   'price_momentum_factor': 0.2,\n",
       "   'optimal_z': 2,\n",
       "   'scaling_pct': 0.2},\n",
       "  3898.5),\n",
       " ({'take_width': 1,\n",
       "   'clear_width': -0.25,\n",
       "   'prevent_adverse': True,\n",
       "   'adverse_volume': 10,\n",
       "   'reversion_beta': -0.2,\n",
       "   'disregard_edge': 1,\n",
       "   'join_edge': 1,\n",
       "   'default_edge': 1,\n",
       "   'arima_window': 15,\n",
       "   'price_momentum_factor': 0.2,\n",
       "   'optimal_z': 1,\n",
       "   'scaling_pct': 0.01},\n",
       "  -22215.5),\n",
       " ({'take_width': 1,\n",
       "   'clear_width': -0.25,\n",
       "   'prevent_adverse': True,\n",
       "   'adverse_volume': 10,\n",
       "   'reversion_beta': -0.2,\n",
       "   'disregard_edge': 1,\n",
       "   'join_edge': 1,\n",
       "   'default_edge': 1,\n",
       "   'arima_window': 15,\n",
       "   'price_momentum_factor': 0.2,\n",
       "   'optimal_z': 1,\n",
       "   'scaling_pct': 0.05},\n",
       "  -22215.5),\n",
       " ({'take_width': 1,\n",
       "   'clear_width': -0.25,\n",
       "   'prevent_adverse': True,\n",
       "   'adverse_volume': 10,\n",
       "   'reversion_beta': -0.2,\n",
       "   'disregard_edge': 1,\n",
       "   'join_edge': 1,\n",
       "   'default_edge': 1,\n",
       "   'arima_window': 15,\n",
       "   'price_momentum_factor': 0.2,\n",
       "   'optimal_z': 1,\n",
       "   'scaling_pct': 0.1},\n",
       "  -22215.5),\n",
       " ({'take_width': 1,\n",
       "   'clear_width': -0.25,\n",
       "   'prevent_adverse': True,\n",
       "   'adverse_volume': 10,\n",
       "   'reversion_beta': -0.2,\n",
       "   'disregard_edge': 1,\n",
       "   'join_edge': 1,\n",
       "   'default_edge': 1,\n",
       "   'arima_window': 15,\n",
       "   'price_momentum_factor': 0.2,\n",
       "   'optimal_z': 1,\n",
       "   'scaling_pct': 0.2},\n",
       "  -22215.5)]"
      ]
     },
     "execution_count": 34,
     "metadata": {},
     "output_type": "execute_result"
    }
   ],
   "source": [
    "sorted_ink_results = sorted(ink_results, key=lambda x: x[1], reverse=True)\n",
    "sorted_ink_results[0:100]"
   ]
  },
  {
   "cell_type": "markdown",
   "metadata": {},
   "source": [
    "# Prices"
   ]
  },
  {
   "cell_type": "code",
   "execution_count": null,
   "metadata": {},
   "outputs": [],
   "source": [
    "prices.sort_values([\"product\", \"timestamp\"], inplace=True)\n",
    "kelp = prices[prices[\"product\"] == \"KELP\"].sort_values(\"timestamp\")\n",
    "fig = plt.figure(figsize=(25, 10))\n",
    "plt.plot(kelp[\"timestamp\"], kelp[\"mid_price\"], label=\"KELP mid price\")\n",
    "plt.xlabel(\"Timestamp\")\n",
    "plt.ylabel(\"Mid Price\")\n",
    "plt.title(\"Mid Price of KELP Over Time\")\n",
    "plt.legend()\n",
    "plt.grid(True)\n",
    "plt.show()"
   ]
  },
  {
   "cell_type": "code",
   "execution_count": null,
   "metadata": {},
   "outputs": [],
   "source": [
    "ink = prices[prices[\"product\"] == \"SQUID_INK\"].sort_values(\"timestamp\")\n",
    "fig = plt.figure(figsize=(25, 10))\n",
    "plt.plot(ink[\"timestamp\"], ink[\"mid_price\"], label=\"INK mid price\")\n",
    "plt.xlabel(\"Timestamp\")\n",
    "plt.ylabel(\"Mid Price\")\n",
    "plt.title(\"Mid Price of INK Over Time\")\n",
    "plt.legend()\n",
    "plt.grid(True)\n",
    "plt.show()"
   ]
  },
  {
   "cell_type": "code",
   "execution_count": null,
   "metadata": {},
   "outputs": [],
   "source": [
    "mid_index = len(ink) // 2\n",
    "ink_first_half = ink.iloc[:mid_index]\n",
    "ink_second_half = ink.iloc[mid_index:]\n",
    "\n",
    "# Построим графики\n",
    "fig, axs = plt.subplots(2, 1, figsize=(25, 12), sharey=True)\n",
    "\n",
    "# Первая половина\n",
    "axs[0].plot(ink_first_half[\"timestamp\"], ink_first_half[\"mid_price\"], color='green')\n",
    "axs[0].set_title(\"INK Mid Price — First Half\")\n",
    "axs[0].set_xlabel(\"Timestamp\")\n",
    "axs[0].set_ylabel(\"Mid Price\")\n",
    "axs[0].grid(True)\n",
    "\n",
    "# Вторая половина\n",
    "axs[1].plot(ink_second_half[\"timestamp\"], ink_second_half[\"mid_price\"], color='orange')\n",
    "axs[1].set_title(\"INK Mid Price — Second Half\")\n",
    "axs[1].set_xlabel(\"Timestamp\")\n",
    "axs[1].set_ylabel(\"Mid Price\")\n",
    "axs[1].grid(True)\n",
    "\n",
    "plt.tight_layout()\n",
    "plt.show()\n"
   ]
  },
  {
   "cell_type": "code",
   "execution_count": null,
   "metadata": {},
   "outputs": [],
   "source": [
    "prices = pd.read_csv(\"/Users/lenakutsak/Desktop/example-program/data/round_1/prices_round_1_day_-1.csv\", delimiter=';')"
   ]
  },
  {
   "cell_type": "code",
   "execution_count": null,
   "metadata": {},
   "outputs": [],
   "source": [
    "ink = prices[prices[\"product\"] == \"SQUID_INK\"].sort_values(\"timestamp\")\n",
    "fig = plt.figure(figsize=(25, 10))\n",
    "plt.plot(ink[\"timestamp\"], ink[\"mid_price\"], label=\"INK mid price\")\n",
    "plt.xlabel(\"Timestamp\")\n",
    "plt.ylabel(\"Mid Price\")\n",
    "plt.title(\"Mid Price of INK Over Time\")\n",
    "plt.legend()\n",
    "plt.grid(True)\n",
    "plt.show()"
   ]
  },
  {
   "cell_type": "code",
   "execution_count": null,
   "metadata": {},
   "outputs": [],
   "source": [
    "mid_index = len(ink) // 2\n",
    "ink_first_half = ink.iloc[:mid_index]\n",
    "ink_second_half = ink.iloc[mid_index:]\n",
    "\n",
    "# Построим графики\n",
    "fig, axs = plt.subplots(2, 1, figsize=(25, 12), sharey=True)\n",
    "\n",
    "# Первая половина\n",
    "axs[0].plot(ink_first_half[\"timestamp\"], ink_first_half[\"mid_price\"], color='green')\n",
    "axs[0].set_title(\"INK Mid Price — First Half\")\n",
    "axs[0].set_xlabel(\"Timestamp\")\n",
    "axs[0].set_ylabel(\"Mid Price\")\n",
    "axs[0].grid(True)\n",
    "\n",
    "# Вторая половина\n",
    "axs[1].plot(ink_second_half[\"timestamp\"], ink_second_half[\"mid_price\"], color='orange')\n",
    "axs[1].set_title(\"INK Mid Price — Second Half\")\n",
    "axs[1].set_xlabel(\"Timestamp\")\n",
    "axs[1].set_ylabel(\"Mid Price\")\n",
    "axs[1].grid(True)\n",
    "\n",
    "plt.tight_layout()\n",
    "plt.show()\n"
   ]
  },
  {
   "cell_type": "code",
   "execution_count": null,
   "metadata": {},
   "outputs": [],
   "source": [
    "prices = pd.read_csv(\"/Users/lenakutsak/Desktop/example-program/data/round_1/prices_round_1_day_0.csv\", delimiter=';')"
   ]
  },
  {
   "cell_type": "code",
   "execution_count": null,
   "metadata": {},
   "outputs": [],
   "source": [
    "ink = prices[prices[\"product\"] == \"SQUID_INK\"].sort_values(\"timestamp\")\n",
    "fig = plt.figure(figsize=(25, 10))\n",
    "plt.plot(ink[\"timestamp\"], ink[\"mid_price\"], label=\"INK mid price\")\n",
    "plt.xlabel(\"Timestamp\")\n",
    "plt.ylabel(\"Mid Price\")\n",
    "plt.title(\"Mid Price of INK Over Time\")\n",
    "plt.legend()\n",
    "plt.grid(True)\n",
    "plt.show()"
   ]
  },
  {
   "cell_type": "code",
   "execution_count": null,
   "metadata": {},
   "outputs": [],
   "source": [
    "mid_index = len(ink) // 2\n",
    "ink_first_half = ink.iloc[:mid_index]\n",
    "ink_second_half = ink.iloc[mid_index:]\n",
    "\n",
    "# Построим графики\n",
    "fig, axs = plt.subplots(2, 1, figsize=(25, 12), sharey=True)\n",
    "\n",
    "# Первая половина\n",
    "axs[0].plot(ink_first_half[\"timestamp\"], ink_first_half[\"mid_price\"], color='green')\n",
    "axs[0].set_title(\"INK Mid Price — First Half\")\n",
    "axs[0].set_xlabel(\"Timestamp\")\n",
    "axs[0].set_ylabel(\"Mid Price\")\n",
    "axs[0].grid(True)\n",
    "\n",
    "# Вторая половина\n",
    "axs[1].plot(ink_second_half[\"timestamp\"], ink_second_half[\"mid_price\"], color='orange')\n",
    "axs[1].set_title(\"INK Mid Price — Second Half\")\n",
    "axs[1].set_xlabel(\"Timestamp\")\n",
    "axs[1].set_ylabel(\"Mid Price\")\n",
    "axs[1].grid(True)\n",
    "\n",
    "plt.tight_layout()\n",
    "plt.show()\n"
   ]
  }
 ],
 "metadata": {
  "kernelspec": {
   "display_name": "Python (prosperity_env3.12)",
   "language": "python",
   "name": "prosperity_env"
  },
  "language_info": {
   "codemirror_mode": {
    "name": "ipython",
    "version": 3
   },
   "file_extension": ".py",
   "mimetype": "text/x-python",
   "name": "python",
   "nbconvert_exporter": "python",
   "pygments_lexer": "ipython3",
   "version": "3.12.9"
  }
 },
 "nbformat": 4,
 "nbformat_minor": 4
}
