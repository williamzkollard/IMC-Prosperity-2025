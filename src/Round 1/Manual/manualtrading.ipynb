{
 "cells": [
  {
   "metadata": {},
   "cell_type": "markdown",
   "source": "# Imports",
   "id": "a30d43bedf542ab9"
  },
  {
   "cell_type": "code",
   "id": "initial_id",
   "metadata": {
    "collapsed": true,
    "ExecuteTime": {
     "end_time": "2025-04-07T12:14:07.824009Z",
     "start_time": "2025-04-07T12:14:07.818065Z"
    }
   },
   "source": [
    "import numpy as np\n",
    "import math\n",
    "import itertools"
   ],
   "outputs": [],
   "execution_count": 6
  },
  {
   "metadata": {},
   "cell_type": "markdown",
   "source": "# Solution",
   "id": "c9170bf1b5664c85"
  },
  {
   "metadata": {
    "ExecuteTime": {
     "end_time": "2025-04-07T12:14:09.313281Z",
     "start_time": "2025-04-07T12:14:09.306644Z"
    }
   },
   "cell_type": "code",
   "source": [
    "rates = np.array([[1, 1.34, 1.98, 0.64],\n",
    "                  [0.72, 1, 1.45, 0.52],\n",
    "                  [0.48, 0.7, 1, 0.31],\n",
    "                  [1.49, 1.95, 3.1, 1]\n",
    "                 ])\n",
    "products = {0:'Shells', 1:'Snowball', 2:'Pizza', 3:'Silicon'}"
   ],
   "id": "534d6402619ba55b",
   "outputs": [],
   "execution_count": 7
  },
  {
   "metadata": {
    "ExecuteTime": {
     "end_time": "2025-04-07T12:14:09.617586Z",
     "start_time": "2025-04-07T12:14:09.612772Z"
    }
   },
   "cell_type": "code",
   "source": [
    "def amount(seq):\n",
    "    \"\"\"Compute the final amount after a sequence of trades, starting with 1 SeaShell.\n",
    "\n",
    "    Parameters\n",
    "    ----------\n",
    "    seq : list of int\n",
    "        List of intermediate products traded.\n",
    "\n",
    "    Returns\n",
    "    -------\n",
    "    float\n",
    "        Payoff.\n",
    "    \"\"\"\n",
    "    if not seq:\n",
    "        return 1\n",
    "    prod = rates[0, seq[0]] * rates[seq[-1], 0]\n",
    "    L = len(seq)\n",
    "    for i in range(L-1):\n",
    "        prod *= rates[seq[i], seq[i+1]]\n",
    "    return prod"
   ],
   "id": "945473b8991af7ef",
   "outputs": [],
   "execution_count": 8
  },
  {
   "metadata": {
    "ExecuteTime": {
     "end_time": "2025-04-07T12:14:10.091515Z",
     "start_time": "2025-04-07T12:14:10.087973Z"
    }
   },
   "cell_type": "code",
   "source": [
    "def maximize(L):\n",
    "    \"\"\"Among sequences of L intermediate products, compute the ones with greatest final amount.\n",
    "\n",
    "    Parameters\n",
    "    ----------\n",
    "    L : int\n",
    "        Number of intermediate products.\n",
    "\n",
    "    Returns\n",
    "    -------\n",
    "    argmax : list of tuple\n",
    "        Optimal sequences of intermediate trades.\n",
    "    max_val : float\n",
    "        Maximal final amount for L intermediate products.\n",
    "    \"\"\"\n",
    "    seqs = itertools.product(*[range(0, 4) for _ in range(L)])\n",
    "    max_val = float('-inf')\n",
    "    argmax = []\n",
    "    for seq in seqs:\n",
    "        p = amount(seq)\n",
    "        if math.isclose(p, max_val):\n",
    "            argmax.append(seq)\n",
    "        elif p > max_val:\n",
    "            max_val = p\n",
    "            argmax = [seq]\n",
    "    return (argmax, max_val)"
   ],
   "id": "b7b2ac2aa5a81547",
   "outputs": [],
   "execution_count": 9
  },
  {
   "metadata": {
    "ExecuteTime": {
     "end_time": "2025-04-07T12:24:28.189716Z",
     "start_time": "2025-04-07T12:24:28.173876Z"
    }
   },
   "cell_type": "code",
   "source": [
    "for L in range(0,5):\n",
    "    print(maximize(L))"
   ],
   "id": "7be13892dcc3eb2f",
   "outputs": [
    {
     "name": "stdout",
     "output_type": "stream",
     "text": [
      "([()], 1)\n",
      "([(0,)], 1.0)\n",
      "([(1, 3)], 1.038232)\n",
      "([(2, 1, 3)], 1.0738728)\n",
      "([(1, 3, 2, 1)], 1.0886803200000001)\n"
     ]
    }
   ],
   "execution_count": 26
  },
  {
   "metadata": {
    "ExecuteTime": {
     "end_time": "2025-04-07T12:24:32.438430Z",
     "start_time": "2025-04-07T12:24:32.433922Z"
    }
   },
   "cell_type": "code",
   "source": [
    "argmax, _ = maximize(4)\n",
    "print(\"Optimal sequences of trades:\")\n",
    "for seq in argmax:\n",
    "    res = ' -> '.join([products[0]] + [products[i] for i in seq] + [products[0]])\n",
    "    print(res)"
   ],
   "id": "e06dd93e6a5090",
   "outputs": [
    {
     "name": "stdout",
     "output_type": "stream",
     "text": [
      "Optimal sequences of trades:\n",
      "Shells -> Snowball -> Silicon -> Pizza -> Snowball -> Shells\n"
     ]
    }
   ],
   "execution_count": 27
  },
  {
   "metadata": {},
   "cell_type": "markdown",
   "source": "# Solution from BSIC past year",
   "id": "f19c747e3ff512cf"
  },
  {
   "metadata": {
    "ExecuteTime": {
     "end_time": "2025-04-07T12:37:29.094655Z",
     "start_time": "2025-04-07T12:37:28.478265Z"
    }
   },
   "cell_type": "code",
   "source": [
    "best_result =0\n",
    "best_steps= []\n",
    "for i in range(100000):\n",
    "    current_steps = []\n",
    "    current_asset = 0\n",
    "    current_money = 1\n",
    "    for j in range(4):\n",
    "        next_asset = np.random.randint(4)\n",
    "        current_money *= rates[current_asset][next_asset]\n",
    "        current_asset=next_asset\n",
    "        current_steps.append(current_asset)\n",
    "    current_money *= rates[current_asset][0]\n",
    "    if current_money> best_result:\n",
    "        best_result= current_money\n",
    "        best_steps = current_steps"
   ],
   "id": "1b553e25e5f8eece",
   "outputs": [
    {
     "name": "stdout",
     "output_type": "stream",
     "text": [
      "1.08868032\n",
      "[1, 3, 2, 1]\n"
     ]
    }
   ],
   "execution_count": 30
  },
  {
   "metadata": {
    "ExecuteTime": {
     "end_time": "2025-04-07T12:38:58.125118Z",
     "start_time": "2025-04-07T12:38:58.119732Z"
    }
   },
   "cell_type": "code",
   "source": [
    "print(\"Optimal sequences of trades:\")\n",
    "res = ' -> '.join([products[0]] + [products[i] for i in best_steps] + [products[0]])\n",
    "print(res)"
   ],
   "id": "4b277fc47e4196e5",
   "outputs": [
    {
     "name": "stdout",
     "output_type": "stream",
     "text": [
      "Optimal sequences of trades:\n",
      "Shells -> Snowball -> Silicon -> Pizza -> Snowball -> Shells\n"
     ]
    }
   ],
   "execution_count": 32
  }
 ],
 "metadata": {
  "kernelspec": {
   "display_name": "Python 3",
   "language": "python",
   "name": "python3"
  },
  "language_info": {
   "codemirror_mode": {
    "name": "ipython",
    "version": 2
   },
   "file_extension": ".py",
   "mimetype": "text/x-python",
   "name": "python",
   "nbconvert_exporter": "python",
   "pygments_lexer": "ipython2",
   "version": "2.7.6"
  }
 },
 "nbformat": 4,
 "nbformat_minor": 5
}
