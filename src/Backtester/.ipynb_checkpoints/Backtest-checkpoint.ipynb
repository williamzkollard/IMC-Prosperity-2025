{
 "cells": [
  {
   "cell_type": "markdown",
   "id": "3ad5bfbb931aa960",
   "metadata": {},
   "source": [
    "# Imports"
   ]
  },
  {
   "cell_type": "code",
   "execution_count": 11,
   "id": "99327c40-b3c6-4a54-bb64-92266131bbac",
   "metadata": {},
   "outputs": [],
   "source": [
    "import pandas as pd\n",
    "from backtester import Backtester\n",
    "from trader import Trader #put this file into Backtester folder\n",
    "from datamodel import Listing"
   ]
  },
  {
   "cell_type": "code",
   "execution_count": 5,
   "id": "c3f25676bc6dd4ba",
   "metadata": {
    "ExecuteTime": {
     "end_time": "2025-04-02T16:17:51.403337Z",
     "start_time": "2025-04-02T16:17:50.613891Z"
    }
   },
   "outputs": [],
   "source": [
    "trader = Trader()\n",
    "position_limit = {\n",
    "    \"RAINFOREST_RESIN\": 50,\n",
    "    \"KELP\": 50,\n",
    "}\n",
    "listings = {\n",
    "    \"RAINFOREST_RESIN\": Listing(\"RAINFOREST_RESIN\", \"RAINFOREST_RESIN\", \"SEASHELLS\"),\n",
    "    \"KELP\": Listing(\"KELP\", \"KELP\", \"SEASHELLS\"),\n",
    "}\n",
    "fair_marks = {\n",
    "    \"KELP\": lambda order_depth: trader.kelp_fair_value(order_depth, {})\n",
    "}\n",
    "\n",
    "prices = pd.read_csv(\"../../data/tutorial/prices_round0.csv\", delimiter=';')\n",
    "trades = pd.read_csv(\"../../data/tutorial/trades_round0.csv\", delimiter=';')\n",
    "\n",
    "bt = Backtester(\n",
    "    trader=trader,\n",
    "    listings=listings,\n",
    "    position_limit=position_limit,\n",
    "    fair_marks=fair_marks,\n",
    "    market_data=prices,  # your loaded pandas DataFrame\n",
    "    trade_history=trades,  # your loaded pandas DataFrame\n",
    "    file_name=\"../../data/tutorial/backtest_results.txt\"\n",
    ")\n",
    "\n",
    "bt.run()"
   ]
  },
  {
   "cell_type": "code",
   "execution_count": 7,
   "id": "c5ec5f2ebe0b1c06",
   "metadata": {
    "ExecuteTime": {
     "end_time": "2025-04-02T16:17:52.389942Z",
     "start_time": "2025-04-02T16:17:52.382022Z"
    }
   },
   "outputs": [
    {
     "data": {
      "text/plain": [
       "{'RAINFOREST_RESIN': 3232.0, 'KELP': 711.0}"
      ]
     },
     "execution_count": 7,
     "metadata": {},
     "output_type": "execute_result"
    }
   ],
   "source": [
    "bt.pnl"
   ]
  },
  {
   "cell_type": "code",
   "execution_count": null,
   "id": "1ec8c941-68d6-4f2f-8941-d8b7035c1863",
   "metadata": {},
   "outputs": [],
   "source": []
  }
 ],
 "metadata": {
  "kernelspec": {
   "display_name": "Python (prosperity_env3.12)",
   "language": "python",
   "name": "prosperity_env"
  },
  "language_info": {
   "codemirror_mode": {
    "name": "ipython",
    "version": 3
   },
   "file_extension": ".py",
   "mimetype": "text/x-python",
   "name": "python",
   "nbconvert_exporter": "python",
   "pygments_lexer": "ipython3",
   "version": "3.12.9"
  }
 },
 "nbformat": 4,
 "nbformat_minor": 5
}
