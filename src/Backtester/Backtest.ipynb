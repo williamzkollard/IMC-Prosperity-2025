{
 "cells": [
  {
   "cell_type": "markdown",
   "id": "3ad5bfbb931aa960",
   "metadata": {},
   "source": [
    "# Imports"
   ]
  },
  {
   "cell_type": "code",
   "execution_count": 1,
   "id": "99327c40-b3c6-4a54-bb64-92266131bbac",
   "metadata": {},
   "outputs": [
    {
     "ename": "ModuleNotFoundError",
     "evalue": "No module named 'trader'",
     "output_type": "error",
     "traceback": [
      "\u001b[0;31m---------------------------------------------------------------------------\u001b[0m",
      "\u001b[0;31mModuleNotFoundError\u001b[0m                       Traceback (most recent call last)",
      "Cell \u001b[0;32mIn[1], line 3\u001b[0m\n\u001b[1;32m      1\u001b[0m \u001b[38;5;28;01mimport\u001b[39;00m \u001b[38;5;21;01mpandas\u001b[39;00m \u001b[38;5;28;01mas\u001b[39;00m \u001b[38;5;21;01mpd\u001b[39;00m\n\u001b[1;32m      2\u001b[0m \u001b[38;5;28;01mfrom\u001b[39;00m \u001b[38;5;21;01mbacktester\u001b[39;00m \u001b[38;5;28;01mimport\u001b[39;00m Backtester\n\u001b[0;32m----> 3\u001b[0m \u001b[38;5;28;01mfrom\u001b[39;00m \u001b[38;5;21;01mtrader\u001b[39;00m \u001b[38;5;28;01mimport\u001b[39;00m Trader \u001b[38;5;66;03m#put this file into Backtester folder\u001b[39;00m\n\u001b[1;32m      4\u001b[0m \u001b[38;5;28;01mfrom\u001b[39;00m \u001b[38;5;21;01mdatamodel\u001b[39;00m \u001b[38;5;28;01mimport\u001b[39;00m Listing\n\u001b[1;32m      5\u001b[0m \u001b[38;5;28;01mimport\u001b[39;00m \u001b[38;5;21;01mmatplotlib\u001b[39;00m\u001b[38;5;21;01m.\u001b[39;00m\u001b[38;5;21;01mpyplot\u001b[39;00m \u001b[38;5;28;01mas\u001b[39;00m \u001b[38;5;21;01mplt\u001b[39;00m\n",
      "\u001b[0;31mModuleNotFoundError\u001b[0m: No module named 'trader'"
     ]
    }
   ],
   "source": [
    "import pandas as pd\n",
    "from backtester import Backtester\n",
    "from trader import Trader #put this file into Backtester folder\n",
    "from datamodel import Listing\n",
    "import matplotlib.pyplot as plt"
   ]
  },
  {
   "cell_type": "code",
   "execution_count": 2,
   "id": "8ab78d42",
   "metadata": {},
   "outputs": [],
   "source": [
    "def get_prices(round: int, day: int):\n",
    "\n",
    "    path = f\"../../data/round{round}/prices_round_{round}_day_{day}.csv\"\n",
    "    return pd.read_csv(path, sep=\";\")\n",
    "\n",
    "\n",
    "def get_trades(round: int, day: int):\n",
    "\n",
    "    path = f\"../../data/round{round}/trades_round_{round}_day_{day}.csv\"\n",
    "    return pd.read_csv(path, sep=\";\")\n",
    "\n",
    "price_frames = []\n",
    "trade_frames = []\n",
    "\n",
    "for day in range(-2, 1):  \n",
    "\n",
    "    prices = get_prices(1, day)\n",
    "    trades = get_trades(1, day)\n",
    "    price_frames.append(prices)\n",
    "    trade_frames.append(trades)\n",
    "\n",
    "prices = pd.concat(price_frames, ignore_index=True)\n",
    "trades = pd.concat(trade_frames, ignore_index=True)\n",
    "\n"
   ]
  },
  {
   "cell_type": "code",
   "execution_count": 3,
   "id": "c3f25676bc6dd4ba",
   "metadata": {
    "ExecuteTime": {
     "end_time": "2025-04-02T16:17:51.403337Z",
     "start_time": "2025-04-02T16:17:50.613891Z"
    }
   },
   "outputs": [],
   "source": [
    "trader = Trader()\n",
    "position_limit = {\n",
    "    \"RAINFOREST_RESIN\": 50,\n",
    "    \"KELP\": 50,\n",
    "    \"SQUID_INK\": 50\n",
    "\n",
    "}\n",
    "listings = {\n",
    "    \"RAINFOREST_RESIN\": Listing(\"RAINFOREST_RESIN\", \"RAINFOREST_RESIN\", \"SEASHELLS\"),\n",
    "    \"KELP\": Listing(\"KELP\", \"KELP\", \"SEASHELLS\"),\n",
    "    \"SQUID_INK\": Listing(\"SQUID_INK\", \"SQUID_INK\", \"SEASHELLS\"),\n",
    "}\n",
    "\n",
    "\n",
    "fair_marks = {\n",
    "    \"KELP\": lambda order_depth: trader.kelp_fair_value(order_depth, {}),\n",
    "    \"SQUID_INK\": lambda order_depth: trader.squid_ink_fair_value(order_depth, {})\n",
    "}\n",
    "\n",
    "#prices = pd.read_csv(\"../../data/round1/prices_round_1_day_-2.csv\", delimiter=';')\n",
    "#trades = pd.read_csv(\"../../data/round1/trades_round_1_day_-2.csv\", delimiter=';')\n",
    "\n",
    "\n",
    "bt = Backtester(\n",
    "    trader=trader,\n",
    "    listings=listings,\n",
    "    position_limit=position_limit,\n",
    "    fair_marks=fair_marks,\n",
    "    market_data=prices,  # your loaded pandas DataFrame\n",
    "    trade_history=trades,  # your loaded pandas DataFrame\n",
    "    file_name=\"../../data/tutorial/backtest_results.txt\"\n",
    ")\n",
    "\n",
    "bt.run()"
   ]
  },
  {
   "cell_type": "code",
   "execution_count": 4,
   "id": "c5ec5f2ebe0b1c06",
   "metadata": {
    "ExecuteTime": {
     "end_time": "2025-04-02T16:17:52.389942Z",
     "start_time": "2025-04-02T16:17:52.382022Z"
    }
   },
   "outputs": [
    {
     "data": {
      "text/plain": [
       "{'RAINFOREST_RESIN': 32036.0, 'KELP': 4638.5, 'SQUID_INK': 12548.0}"
      ]
     },
     "execution_count": 4,
     "metadata": {},
     "output_type": "execute_result"
    }
   ],
   "source": [
    "bt.pnl"
   ]
  },
  {
   "cell_type": "code",
   "execution_count": 6,
   "id": "1ec8c941-68d6-4f2f-8941-d8b7035c1863",
   "metadata": {},
   "outputs": [
    {
     "data": {
      "text/plain": [
       "[<matplotlib.lines.Line2D at 0x14781ac60>]"
      ]
     },
     "execution_count": 6,
     "metadata": {},
     "output_type": "execute_result"
    },
    {
     "data": {
      "image/png": "[encoded data removed]",
      "text/plain": [
       "<Figure size 640x480 with 1 Axes>"
      ]
     },
     "metadata": {},
     "output_type": "display_data"
    }
   ],
   "source": [
    "frame = bt.market_data\n",
    "squid_df = frame[frame[\"product\"] == \"KELP\"]\n",
    "plt.plot(squid_df[\"timestamp\"], squid_df[\"profit_and_loss\"])\n",
    "\n"
   ]
  }
 ],
 "metadata": {
  "kernelspec": {
   "display_name": "prosperity_env",
   "language": "python",
   "name": "python3"
  },
  "language_info": {
   "codemirror_mode": {
    "name": "ipython",
    "version": 3
   },
   "file_extension": ".py",
   "mimetype": "text/x-python",
   "name": "python",
   "nbconvert_exporter": "python",
   "pygments_lexer": "ipython3",
   "version": "3.12.9"
  }
 },
 "nbformat": 4,
 "nbformat_minor": 5
}
