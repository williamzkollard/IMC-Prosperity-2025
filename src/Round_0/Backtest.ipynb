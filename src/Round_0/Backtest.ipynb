{
 "cells": [
  {
   "metadata": {},
   "cell_type": "markdown",
   "source": "# Imports",
   "id": "3ad5bfbb931aa960"
  },
  {
   "cell_type": "code",
   "id": "initial_id",
   "metadata": {
    "collapsed": true,
    "ExecuteTime": {
     "end_time": "2025-04-02T16:17:32.110841Z",
     "start_time": "2025-04-02T16:17:31.472079Z"
    }
   },
   "source": [
    "from src.Round_0.backtester import Backtester\n",
    "from src.Round_0.traderv11 import Trader\n",
    "from src.Round_0.datamodel import Listing\n",
    "import pandas as pd"
   ],
   "outputs": [],
   "execution_count": 1
  },
  {
   "metadata": {
    "ExecuteTime": {
     "end_time": "2025-04-02T16:17:51.403337Z",
     "start_time": "2025-04-02T16:17:50.613891Z"
    }
   },
   "cell_type": "code",
   "source": [
    "trader = Trader()\n",
    "position_limit = {\n",
    "    \"RAINFOREST_RESIN\": 50,\n",
    "    \"KELP\": 50,\n",
    "}\n",
    "listings = {\n",
    "    \"RAINFOREST_RESIN\": Listing(\"RAINFOREST_RESIN\", \"RAINFOREST_RESIN\", \"SEASHELLS\"),\n",
    "    \"KELP\": Listing(\"KELP\", \"KELP\", \"SEASHELLS\"),\n",
    "}\n",
    "fair_marks = {\n",
    "    \"KELP\": lambda order_depth: trader.kelp_fair_value(order_depth, {})\n",
    "}\n",
    "\n",
    "prices = pd.read_csv(\"../../data/tutorial/prices_round0.csv\", delimiter=';')\n",
    "trades = pd.read_csv(\"../../data/tutorial/trades_round0.csv\", delimiter=';')\n",
    "\n",
    "bt = Backtester(\n",
    "    trader=trader,\n",
    "    listings=listings,\n",
    "    position_limit=position_limit,\n",
    "    fair_marks=fair_marks,\n",
    "    market_data=prices,  # your loaded pandas DataFrame\n",
    "    trade_history=trades,  # your loaded pandas DataFrame\n",
    "    file_name=\"../../data/tutorial/backtest_results.txt\"\n",
    ")\n",
    "\n",
    "bt.run()"
   ],
   "id": "c3f25676bc6dd4ba",
   "outputs": [],
   "execution_count": 2
  },
  {
   "metadata": {
    "ExecuteTime": {
     "end_time": "2025-04-02T16:17:52.389942Z",
     "start_time": "2025-04-02T16:17:52.382022Z"
    }
   },
   "cell_type": "code",
   "source": "bt.pnl",
   "id": "c5ec5f2ebe0b1c06",
   "outputs": [
    {
     "data": {
      "text/plain": [
       "{'RAINFOREST_RESIN': 3196.0, 'KELP': 637.0}"
      ]
     },
     "execution_count": 3,
     "metadata": {},
     "output_type": "execute_result"
    }
   ],
   "execution_count": 3
  },
  {
   "metadata": {},
   "cell_type": "code",
   "outputs": [],
   "execution_count": null,
   "source": "",
   "id": "41b2307a8296fb5b"
  }
 ],
 "metadata": {
  "kernelspec": {
   "display_name": "Python 3",
   "language": "python",
   "name": "python3"
  },
  "language_info": {
   "codemirror_mode": {
    "name": "ipython",
    "version": 2
   },
   "file_extension": ".py",
   "mimetype": "text/x-python",
   "name": "python",
   "nbconvert_exporter": "python",
   "pygments_lexer": "ipython2",
   "version": "2.7.6"
  }
 },
 "nbformat": 4,
 "nbformat_minor": 5
}
