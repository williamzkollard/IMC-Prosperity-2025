{
 "cells": [
  {
   "metadata": {},
   "cell_type": "markdown",
   "source": "# Imports",
   "id": "5b9e6ffcedc7bd4b"
  },
  {
   "cell_type": "code",
   "id": "initial_id",
   "metadata": {
    "collapsed": true,
    "ExecuteTime": {
     "end_time": "2025-04-11T10:02:29.354905Z",
     "start_time": "2025-04-11T10:02:29.349002Z"
    }
   },
   "source": [
    "import numpy as np\n",
    "import math\n",
    "import itertools\n",
    "import heapq\n",
    "import pandas as pd\n",
    "import scipy.optimize as opt\n",
    "import matplotlib.pyplot as plt"
   ],
   "outputs": [],
   "execution_count": 78
  },
  {
   "metadata": {},
   "cell_type": "markdown",
   "source": "# Solution",
   "id": "5413be2c1dbf7e1f"
  },
  {
   "metadata": {
    "ExecuteTime": {
     "end_time": "2025-04-11T10:02:29.383806Z",
     "start_time": "2025-04-11T10:02:29.381797Z"
    }
   },
   "cell_type": "code",
   "source": "arr = np.array([(10, 1), (80, 6), (37, 3), (17, 1), (90, 10), (31, 2), (50, 4), (20, 2), (73, 4), (89, 8)])",
   "id": "d182475d6b47d48a",
   "outputs": [],
   "execution_count": 79
  },
  {
   "metadata": {},
   "cell_type": "markdown",
   "source": [
    "$\n",
    "1. \\space 10000 \\cdot \\frac{M}{H + 100p}\n",
    "$\n",
    "\n",
    "$\n",
    "2. \\space 10000 \\cdot \\frac{M}{H + 100p} - 50000\n",
    "$\n",
    "\n",
    "\n",
    "do second expedition only if $ p <  \\frac{M - 5H}{500} $\n",
    "\n",
    "\n",
    "\n"
   ],
   "id": "2c0324ddee87934"
  },
  {
   "metadata": {},
   "cell_type": "markdown",
   "source": "### Max value of p to make the expedition profitable",
   "id": "4a7f7690f423fa19"
  },
  {
   "metadata": {
    "ExecuteTime": {
     "end_time": "2025-04-11T10:02:29.391816Z",
     "start_time": "2025-04-11T10:02:29.389219Z"
    }
   },
   "cell_type": "code",
   "source": [
    "thresh = np.zeros(len(arr))\n",
    "for i in range(len(arr)):\n",
    "    mult, hab = arr[i][0], arr[i][1]\n",
    "    thresh[i] = (mult - 5 * hab)/500\n",
    "with np.printoptions(precision=3, suppress=True):\n",
    "    print(thresh)"
   ],
   "id": "b98386398170ef1",
   "outputs": [
    {
     "name": "stdout",
     "output_type": "stream",
     "text": [
      "[0.01  0.1   0.044 0.024 0.08  0.042 0.06  0.02  0.106 0.098]\n"
     ]
    }
   ],
   "execution_count": 80
  },
  {
   "metadata": {},
   "cell_type": "markdown",
   "source": [
    "## Max Min\n",
    " consider the most pessimistic setting where\n",
    " is chosen by a malicious adversary in order to make our profit as small as possible."
   ],
   "id": "4d023fb297c88716"
  },
  {
   "metadata": {
    "ExecuteTime": {
     "end_time": "2025-04-11T10:02:29.401348Z",
     "start_time": "2025-04-11T10:02:29.399193Z"
    }
   },
   "cell_type": "code",
   "source": [
    "def maximin1():\n",
    "    \"\"\"Solves the maximin optimization problem for a single expedition.\n",
    "\n",
    "    Parameters\n",
    "    ----------\n",
    "\n",
    "    Returns\n",
    "    -------\n",
    "    argmax : list of tuple\n",
    "        Maximizers.\n",
    "    max_val : float\n",
    "        Maximal profit.\n",
    "\n",
    "    \"\"\"\n",
    "    max_val = float('-inf')\n",
    "    argmax = []\n",
    "    for i in range(len(arr)):\n",
    "        mult, hab = arr[i][0], arr[i][1]\n",
    "        val = mult / (hab + 100) * 10000\n",
    "        if math.isclose(val, max_val):\n",
    "            argmax.append((mult, hab))\n",
    "        elif val > max_val:\n",
    "            argmax = [(mult, hab)]\n",
    "            max_val = val\n",
    "    return (argmax, max_val)"
   ],
   "id": "b93c9762c3033faa",
   "outputs": [],
   "execution_count": 81
  },
  {
   "metadata": {
    "ExecuteTime": {
     "end_time": "2025-04-11T10:02:29.414852Z",
     "start_time": "2025-04-11T10:02:29.412814Z"
    }
   },
   "cell_type": "code",
   "source": "maximin1()",
   "id": "f3719e2e8cf85017",
   "outputs": [
    {
     "data": {
      "text/plain": [
       "([(89, 8)], 8240.74074074074)"
      ]
     },
     "execution_count": 82,
     "metadata": {},
     "output_type": "execute_result"
    }
   ],
   "execution_count": 82
  },
  {
   "metadata": {
    "ExecuteTime": {
     "end_time": "2025-04-11T10:02:29.426409Z",
     "start_time": "2025-04-11T10:02:29.422915Z"
    }
   },
   "cell_type": "code",
   "source": [
    "def objective(p, mult1, hunt1, mult2, hunt2):\n",
    "    \"\"\"\n",
    "    Compute the objective function for the given parameters.\n",
    "\n",
    "    Parameters:\n",
    "      p : list or array, where p[0] = p1 and p[1] = p2.\n",
    "      mult1, hunt1: parameters for first expedition.\n",
    "      mult2, hunt2: parameters for second expedition.\n",
    "\n",
    "    Returns:\n",
    "      The value of the function to minimize.\n",
    "    \"\"\"\n",
    "    p1, p2 = p\n",
    "    return mult1 / (hunt1 + 100*p1) + mult2 / (hunt2 + 100*p2)\n",
    "\n",
    "def maximize2():\n",
    "    \"\"\"\n",
    "    Solves the maximin optimization problem for two expeditions.\n",
    "    For each pair of expeditions, it finds the optimum values p1 and p2\n",
    "    within the constraints, computes the profit, and returns the expedition\n",
    "    pair with the maximum profit.\n",
    "\n",
    "    Returns:\n",
    "      argmax1 : tuple\n",
    "          First expedition as (multiplier, hunters).\n",
    "      argmax2 : tuple\n",
    "          Second expedition as (multiplier, hunters).\n",
    "      max_val : float\n",
    "          Maximum profit.\n",
    "    \"\"\"\n",
    "    max_val = float('-inf')\n",
    "    max_mult1, max_hunt1 = None, None\n",
    "    max_mult2, max_hunt2 = None, None\n",
    "\n",
    "    # Loop through all combinations of two distinct expeditions.\n",
    "    for (mult1, hunt1), (mult2, hunt2) in itertools.combinations(arr, 2):\n",
    "        # Define constraints for p1 and p2:\n",
    "        constraints = (\n",
    "            {'type': 'ineq', 'fun': lambda p: p[0]},                  # p1 >= 0\n",
    "            {'type': 'ineq', 'fun': lambda p: p[1]},                  # p2 >= 0\n",
    "            {'type': 'ineq', 'fun': lambda p: 1 - (p[0] + p[1])}      # p1 + p2 <= 1\n",
    "        )\n",
    "        # Set bounds for p1 and p2: here [0, 1] works well given the constraints.\n",
    "        bounds = ((0, 1), (0, 1))\n",
    "        # Initial guess must be feasible; [0.5, 0] is a valid starting point.\n",
    "        initial_guess = [0.5, 0.0]\n",
    "\n",
    "        # Solve the minimization problem.\n",
    "        res = opt.minimize(objective, initial_guess, args=(mult1, hunt1, mult2, hunt2),\n",
    "                           constraints=constraints, bounds=bounds, method='SLSQP')\n",
    "\n",
    "        if not res.success:\n",
    "            # If optimization fails, skip this pair.\n",
    "            continue\n",
    "\n",
    "        # The optimized minimum value of the objective.\n",
    "        val_temp = res.fun\n",
    "\n",
    "        # Compute the overall profit.\n",
    "        val = -25000 + 7500 * val_temp\n",
    "\n",
    "        if math.isclose(val, max_val):\n",
    "            print(\"collision\")\n",
    "        if val > max_val:\n",
    "            max_mult1, max_hunt1 = mult1, hunt1\n",
    "            max_mult2, max_hunt2 = mult2, hunt2\n",
    "            max_val = val\n",
    "\n",
    "    return ((max_mult1, max_hunt1), (max_mult2, max_hunt2), max_val)"
   ],
   "id": "6fb0513af93ab573",
   "outputs": [],
   "execution_count": 83
  },
  {
   "metadata": {
    "ExecuteTime": {
     "end_time": "2025-04-11T10:02:29.518914Z",
     "start_time": "2025-04-11T10:02:29.429971Z"
    }
   },
   "cell_type": "code",
   "source": [
    "# Example: run maximize2 and print the best pair and value.\n",
    "result = maximize2()\n",
    "print(\"Best expeditions and maximal profit:\")\n",
    "print(result)"
   ],
   "id": "4ca062791bcc3132",
   "outputs": [
    {
     "name": "stdout",
     "output_type": "stream",
     "text": [
      "Best expeditions and maximal profit:\n",
      "((90, 10), (89, 8), -2245.940253242381)\n"
     ]
    }
   ],
   "execution_count": 84
  },
  {
   "metadata": {},
   "cell_type": "markdown",
   "source": "## Using a Prior",
   "id": "715ce4945be38747"
  },
  {
   "metadata": {
    "ExecuteTime": {
     "end_time": "2025-04-11T10:02:29.528317Z",
     "start_time": "2025-04-11T10:02:29.525484Z"
    }
   },
   "cell_type": "code",
   "source": [
    "ratios = np.zeros(len(arr))\n",
    "for i in range(len(arr)):\n",
    "    mult, hab = arr[i][0], arr[i][1]\n",
    "    ratios[i] = mult/hab\n",
    "with np.printoptions(precision=3, suppress=True):\n",
    "    print(ratios)"
   ],
   "id": "31b935fccbe70c22",
   "outputs": [
    {
     "name": "stdout",
     "output_type": "stream",
     "text": [
      "[10.    13.333 12.333 17.     9.    15.5   12.5   10.    18.25  11.125]\n"
     ]
    }
   ],
   "execution_count": 85
  },
  {
   "metadata": {
    "ExecuteTime": {
     "end_time": "2025-04-11T10:02:29.537002Z",
     "start_time": "2025-04-11T10:02:29.534525Z"
    }
   },
   "cell_type": "code",
   "source": [
    "shares = ratios / np.sum(ratios)\n",
    "with np.printoptions(precision=3, suppress=True):\n",
    "    print(\"Natural prior:\", shares, sep='\\n')"
   ],
   "id": "31a6072a56f865f6",
   "outputs": [
    {
     "name": "stdout",
     "output_type": "stream",
     "text": [
      "Natural prior:\n",
      "[0.077 0.103 0.096 0.132 0.07  0.12  0.097 0.077 0.141 0.086]\n"
     ]
    }
   ],
   "execution_count": 86
  },
  {
   "metadata": {
    "ExecuteTime": {
     "end_time": "2025-04-11T10:02:29.557189Z",
     "start_time": "2025-04-11T10:02:29.555404Z"
    }
   },
   "cell_type": "code",
   "source": [
    "def fee(n):\n",
    "    \"\"\"Compute the fee for a total of n expeditions.\n",
    "\n",
    "    Parameters\n",
    "    ----------\n",
    "    n : int\n",
    "        Number of expeditions.\n",
    "\n",
    "    Returns\n",
    "    -------\n",
    "    float\n",
    "        Fee.\n",
    "    \"\"\"\n",
    "    if n == 1:\n",
    "        return 0\n",
    "    if n == 2:\n",
    "        return -50000"
   ],
   "id": "720d4fa037848a8a",
   "outputs": [],
   "execution_count": 87
  },
  {
   "metadata": {
    "ExecuteTime": {
     "end_time": "2025-04-11T10:02:29.560854Z",
     "start_time": "2025-04-11T10:02:29.558956Z"
    }
   },
   "cell_type": "code",
   "source": [
    "def payoff(mults, hunts, shares):\n",
    "    \"\"\"Compute the final profit after the expeditions.\n",
    "\n",
    "    Parameters\n",
    "    ----------\n",
    "    mults : list of int\n",
    "        Multipliers for each destination.\n",
    "    hunts : list of int\n",
    "        Hunters for each destination.\n",
    "    shares : list of int\n",
    "        Shares for each destination.\n",
    "\n",
    "    Returns\n",
    "    -------\n",
    "    float\n",
    "        Profit.\n",
    "    \"\"\"\n",
    "    return 10000 * sum([mult/(hunt + 100*share) for (mult, hunt, share) in zip(mults, hunts, shares)]) + fee(len(mults))"
   ],
   "id": "41d4933479fd3db8",
   "outputs": [],
   "execution_count": 88
  },
  {
   "metadata": {
    "ExecuteTime": {
     "end_time": "2025-04-11T10:02:29.569553Z",
     "start_time": "2025-04-11T10:02:29.566702Z"
    }
   },
   "cell_type": "code",
   "source": [
    "def maximize_prior_top(shares, k):\n",
    "    \"\"\"Given the prior, compute solutions that yield top k profits.\n",
    "\n",
    "    Parameters\n",
    "    ----------\n",
    "    shares : list of int\n",
    "        Shares for each destination.\n",
    "    k : int\n",
    "        Number of solutions\n",
    "\n",
    "    Returns\n",
    "    -------\n",
    "    list of tuple\n",
    "        Top k profits and optimal expeditions.\n",
    "    \"\"\"\n",
    "    datas = [(mult, hunt, share) for ((mult, hunt), share) in zip(arr, shares)]\n",
    "    heap = []\n",
    "    iterables = [itertools.combinations(datas, n_exp) for n_exp in range(1, 3)]\n",
    "    for (i, data) in enumerate(itertools.chain.from_iterable(iterables)):\n",
    "        mults = [tupl[0] for tupl in data]\n",
    "        hunts = [tupl[1] for tupl in data]\n",
    "        shares = [tupl[-1] for tupl in data]\n",
    "        val = payoff(mults, hunts, shares)\n",
    "        expeditions = list(zip(mults, hunts))\n",
    "        if i < k:\n",
    "            heapq.heappush(heap, (val, expeditions))\n",
    "        elif val > heap[0][0]:\n",
    "            heapq.heappop(heap)\n",
    "            heapq.heappush(heap, (val, expeditions))\n",
    "    return sorted(heap, reverse=True)"
   ],
   "id": "8a3018540233f156",
   "outputs": [],
   "execution_count": 89
  },
  {
   "metadata": {
    "ExecuteTime": {
     "end_time": "2025-04-11T10:02:29.580824Z",
     "start_time": "2025-04-11T10:02:29.576560Z"
    }
   },
   "cell_type": "code",
   "source": [
    "for i in range(10):\n",
    "    shares = ratios**i\n",
    "    shares = shares / np.sum(shares)\n",
    "    res = maximize_prior_top(shares, 1)\n",
    "    print(\"Exponent:\", i, \"Profit:\", f\"{res[0][0]:.2f}\", \"Optimal expeditions:\", res[0][1])"
   ],
   "id": "5cd9871420ccff3e",
   "outputs": [
    {
     "name": "stdout",
     "output_type": "stream",
     "text": [
      "Exponent: 0 Profit: 52142.86 Optimal expeditions: [(80, 6), (73, 4)]\n",
      "Exponent: 1 Profit: 56566.66 Optimal expeditions: [(90, 10), (89, 8)]\n",
      "Exponent: 2 Profit: 70658.70 Optimal expeditions: [(90, 10), (89, 8)]\n",
      "Exponent: 3 Profit: 85605.23 Optimal expeditions: [(90, 10), (89, 8)]\n",
      "Exponent: 4 Profit: 100070.58 Optimal expeditions: [(90, 10), (89, 8)]\n",
      "Exponent: 5 Profit: 112950.96 Optimal expeditions: [(90, 10), (89, 8)]\n",
      "Exponent: 6 Profit: 123630.03 Optimal expeditions: [(90, 10), (89, 8)]\n",
      "Exponent: 7 Profit: 131966.18 Optimal expeditions: [(90, 10), (89, 8)]\n",
      "Exponent: 8 Profit: 138149.99 Optimal expeditions: [(90, 10), (89, 8)]\n",
      "Exponent: 9 Profit: 142876.92 Optimal expeditions: [(20, 2), (89, 8)]\n"
     ]
    }
   ],
   "execution_count": 90
  },
  {
   "metadata": {},
   "cell_type": "markdown",
   "source": "## Using past year data to adjust prior",
   "id": "962a8c77686a1da6"
  },
  {
   "metadata": {
    "ExecuteTime": {
     "end_time": "2025-04-11T10:02:29.591803Z",
     "start_time": "2025-04-11T10:02:29.589319Z"
    }
   },
   "cell_type": "code",
   "source": [
    "mult = np.array([\n",
    "    100, 90, 89, 87, 85, 83, 82, 80, 79, 77,\n",
    "    73, 70, 60, 55, 52, 47, 41, 35, 30, 27,\n",
    "    24, 21, 17, 15, 12\n",
    "])\n",
    "\n",
    "hunt = np.array([\n",
    "    8, 7, 5, 5, 5, 5, 5, 5, 5, 5,\n",
    "    4, 4, 4, 4, 4, 3, 3, 3, 3, 3,\n",
    "    2, 2, 2, 2, 2\n",
    "])\n",
    "\n",
    "past_ratios = mult/hunt\n",
    "\n",
    "true_perc = np.array([\n",
    "    1.348836074, 5.767443081, 2.720993972, 0.9303010114, 4.372104849,\n",
    "    3.558136956, 6.44182824, 7.13946832, 6.162787002, 1.883712518,\n",
    "    6.186049452, 7.418603709, 5.953443849, 5.558078804, 0.372180907,\n",
    "    5.744162446, 6.581396295, 6.860435228, 6.023287011, 3.674380297,\n",
    "    0, 0.7674409483, 3.255871615, 0.09302948621, 1.186027929\n",
    "])"
   ],
   "id": "5e7bd2883b4f4ef2",
   "outputs": [],
   "execution_count": 91
  },
  {
   "metadata": {
    "ExecuteTime": {
     "end_time": "2025-04-11T10:02:29.603522Z",
     "start_time": "2025-04-11T10:02:29.598429Z"
    }
   },
   "cell_type": "code",
   "source": [
    "data = list(zip(past_ratios, true_perc))\n",
    "ratio_to_perc = pd.DataFrame(data, columns=[\"ratio\", \"true_perc\"]).sort_values(\"ratio\")"
   ],
   "id": "80b2e0ba071127f0",
   "outputs": [],
   "execution_count": 92
  },
  {
   "metadata": {
    "ExecuteTime": {
     "end_time": "2025-04-11T10:02:29.717892Z",
     "start_time": "2025-04-11T10:02:29.609128Z"
    }
   },
   "cell_type": "code",
   "source": [
    "fig, ax = plt.subplots(figsize = (12, 4))\n",
    "ax.plot(ratio_to_perc[\"ratio\"], ratio_to_perc[\"true_perc\"])"
   ],
   "id": "898eeabf845bb3a1",
   "outputs": [
    {
     "data": {
      "text/plain": [
       "[<matplotlib.lines.Line2D at 0x14619bed0>]"
      ]
     },
     "execution_count": 93,
     "metadata": {},
     "output_type": "execute_result"
    },
    {
     "data": {
      "text/plain": [
       "<Figure size 1200x400 with 1 Axes>"
      ],
      "image/png": "[encoded data removed]"
     },
     "metadata": {},
     "output_type": "display_data"
    }
   ],
   "execution_count": 93
  },
  {
   "metadata": {
    "ExecuteTime": {
     "end_time": "2025-04-11T10:03:04.452467Z",
     "start_time": "2025-04-11T10:03:04.436262Z"
    }
   },
   "cell_type": "code",
   "source": [
    "bin_labels = range(5)\n",
    "ratio_to_perc[\"bin\"], bin_edges = pd.cut(ratio_to_perc[\"ratio\"], bins=5, labels=bin_labels, retbins=True)\n",
    "\n",
    "bin_probs = ratio_to_perc.groupby(\"bin\")[\"true_perc\"].sum()/100\n",
    "\n",
    "# Display result\n",
    "for i, prob in enumerate(bin_probs):\n",
    "    interval = (bin_edges[i], bin_edges[i + 1])\n",
    "    print(f\"Bin {i+1}: Range = {interval}, Probability = {prob:.4f}\")"
   ],
   "id": "698cced419242f28",
   "outputs": [
    {
     "name": "stdout",
     "output_type": "stream",
     "text": [
      "Bin 1: Range = (5.98775, 8.45), Probability = 0.0128\n",
      "Bin 2: Range = (8.45, 10.9), Probability = 0.1372\n",
      "Bin 3: Range = (10.9, 13.350000000000001), Probability = 0.1435\n",
      "Bin 4: Range = (13.350000000000001, 15.8), Probability = 0.3188\n",
      "Bin 5: Range = (15.8, 18.25), Probability = 0.3877\n"
     ]
    }
   ],
   "execution_count": 96
  },
  {
   "metadata": {
    "ExecuteTime": {
     "end_time": "2025-04-11T10:20:39.254009Z",
     "start_time": "2025-04-11T10:20:39.220229Z"
    }
   },
   "cell_type": "code",
   "source": [
    "def compute_adj_shares(ratios, bin_probs, i=1):\n",
    "    bin_assignments, bin_edges = pd.cut(ratios**i, bins=5, labels=False, retbins=True)\n",
    "\n",
    "    # -- Step 2: Create a DataFrame to work with\n",
    "    shares = ratios**i\n",
    "    shares = shares / np.sum(shares)\n",
    "    df = pd.DataFrame({\n",
    "        \"ratio\": ratios**i,\n",
    "        \"prior_share\": shares,\n",
    "        \"bin\": bin_assignments\n",
    "    })\n",
    "\n",
    "    # -- Step 3: Rescale shares within each bin so their total matches historical bin_prob\n",
    "    adjusted_shares = np.zeros_like(shares)\n",
    "\n",
    "    for b in range(5):\n",
    "        bin_mask = df[\"bin\"] == b\n",
    "        bin_total = df.loc[bin_mask, \"prior_share\"].sum()\n",
    "\n",
    "        # If there's anything in this bin\n",
    "        if bin_total > 0:\n",
    "            # Rescale so that sum in this bin equals historical bin_prob\n",
    "            scale = bin_probs[b] / bin_total\n",
    "            adjusted_shares[bin_mask] = df.loc[bin_mask, \"prior_share\"] * scale\n",
    "\n",
    "    # -- Step 4: Normalize adjusted shares to sum to 1 (optional)\n",
    "    adjusted_shares /= adjusted_shares.sum()\n",
    "\n",
    "    return adjusted_shares\n",
    "\n",
    "# Show result\n",
    "print(\"Adjusted shares:\\n\", compute_adj_shares(ratios, bin_probs, 1))"
   ],
   "id": "5da85bd42845441d",
   "outputs": [
    {
     "name": "stdout",
     "output_type": "stream",
     "text": [
      "Adjusted shares:\n",
      " [0.00441054 0.14348895 0.04706153 0.18696376 0.00396949 0.31883581\n",
      " 0.0476975  0.00441054 0.2007111  0.04245077]\n"
     ]
    }
   ],
   "execution_count": 113
  },
  {
   "metadata": {
    "ExecuteTime": {
     "end_time": "2025-04-11T10:22:15.412883Z",
     "start_time": "2025-04-11T10:22:15.385310Z"
    }
   },
   "cell_type": "code",
   "source": [
    "for i in range(1, 10):\n",
    "    adj_shares = compute_adj_shares(ratios, bin_probs, i)\n",
    "    res = maximize_prior_top(adj_shares, 1)\n",
    "    print(\"Exponent:\", i, \"Profit:\", f\"{res[0][0]:.2f}\", \"Optimal expeditions:\", res[0][1])"
   ],
   "id": "a4dd2adb337333d5",
   "outputs": [
    {
     "name": "stdout",
     "output_type": "stream",
     "text": [
      "Exponent: 1 Profit: 118495.67 Optimal expeditions: [(90, 10), (20, 2)]\n",
      "Exponent: 2 Profit: 142631.50 Optimal expeditions: [(90, 10), (89, 8)]\n",
      "Exponent: 3 Profit: 143590.30 Optimal expeditions: [(90, 10), (89, 8)]\n",
      "Exponent: 4 Profit: 176044.71 Optimal expeditions: [(37, 3), (50, 4)]\n",
      "Exponent: 5 Profit: 190256.17 Optimal expeditions: [(80, 6), (50, 4)]\n",
      "Exponent: 6 Profit: 188937.18 Optimal expeditions: [(80, 6), (50, 4)]\n",
      "Exponent: 7 Profit: 187860.61 Optimal expeditions: [(80, 6), (50, 4)]\n",
      "Exponent: 8 Profit: 181950.15 Optimal expeditions: [(80, 6), (50, 4)]\n",
      "Exponent: 9 Profit: 180933.67 Optimal expeditions: [(80, 6), (50, 4)]\n"
     ]
    }
   ],
   "execution_count": 115
  }
 ],
 "metadata": {
  "kernelspec": {
   "display_name": "Python 3",
   "language": "python",
   "name": "python3"
  },
  "language_info": {
   "codemirror_mode": {
    "name": "ipython",
    "version": 2
   },
   "file_extension": ".py",
   "mimetype": "text/x-python",
   "name": "python",
   "nbconvert_exporter": "python",
   "pygments_lexer": "ipython2",
   "version": "2.7.6"
  }
 },
 "nbformat": 4,
 "nbformat_minor": 5
}
