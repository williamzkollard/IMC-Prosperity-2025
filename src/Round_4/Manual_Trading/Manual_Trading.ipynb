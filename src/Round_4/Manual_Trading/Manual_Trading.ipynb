{
 "cells": [
  {
   "metadata": {},
   "cell_type": "markdown",
   "source": "# Imports",
   "id": "7b5a961b1a8d2d4d"
  },
  {
   "cell_type": "code",
   "id": "initial_id",
   "metadata": {
    "collapsed": true,
    "ExecuteTime": {
     "end_time": "2025-04-17T16:54:30.101131Z",
     "start_time": "2025-04-17T16:54:29.923401Z"
    }
   },
   "source": [
    "import numpy as np\n",
    "import itertools\n",
    "import math\n",
    "import heapq\n",
    "import pandas as pd\n",
    "import matplotlib.pyplot as plt\n",
    "from wolframclient.evaluation import WolframLanguageSession\n",
    "from wolframclient.language import wl, wlexpr"
   ],
   "outputs": [],
   "execution_count": 37
  },
  {
   "metadata": {},
   "cell_type": "markdown",
   "source": "# Solution",
   "id": "db7b26fbd5c3c4a8"
  },
  {
   "metadata": {
    "ExecuteTime": {
     "end_time": "2025-04-17T16:34:02.026360Z",
     "start_time": "2025-04-17T16:34:02.003125Z"
    }
   },
   "cell_type": "code",
   "source": [
    "arr = np.array([[(80,6), (50,4), (83,7), (31,2), (60,4)],\n",
    "                [(89,8), (10,1), (37,3), (70,4), (90,10)],\n",
    "                [(17,1), (40,3), (73,4), (100,15), (20,2)],\n",
    "                [(41,3), (79,5), (23,2), (47,3), (30,2)]])"
   ],
   "id": "dbb7cc45603485dc",
   "outputs": [],
   "execution_count": 4
  },
  {
   "metadata": {},
   "cell_type": "markdown",
   "source": "## Max p second pick",
   "id": "c5fb4bf53a90da95"
  },
  {
   "metadata": {
    "ExecuteTime": {
     "end_time": "2025-04-17T16:36:42.756235Z",
     "start_time": "2025-04-17T16:36:42.738710Z"
    }
   },
   "cell_type": "code",
   "source": [
    "thresh = np.zeros((4, 5))\n",
    "for i in range(4):\n",
    "    for j in range(5):\n",
    "        mult, hunt = arr[i, j]\n",
    "        thresh[i, j] = (mult - 5 * hunt)/500\n",
    "with np.printoptions(precision=3, suppress=True):\n",
    "    print(thresh)"
   ],
   "id": "d57686ddf271fe94",
   "outputs": [
    {
     "name": "stdout",
     "output_type": "stream",
     "text": [
      "[[0.1   0.06  0.096 0.042 0.08 ]\n",
      " [0.098 0.01  0.044 0.1   0.08 ]\n",
      " [0.024 0.05  0.106 0.05  0.02 ]\n",
      " [0.052 0.108 0.026 0.064 0.04 ]]\n"
     ]
    }
   ],
   "execution_count": 8
  },
  {
   "metadata": {},
   "cell_type": "markdown",
   "source": "## Max p third pick",
   "id": "5e1d37141998c52e"
  },
  {
   "metadata": {
    "ExecuteTime": {
     "end_time": "2025-04-17T16:41:55.426459Z",
     "start_time": "2025-04-17T16:41:55.397732Z"
    }
   },
   "cell_type": "code",
   "source": [
    "thresh = np.zeros((4, 5))\n",
    "for i in range(4):\n",
    "    for j in range(5):\n",
    "        mult, hunt = arr[i, j]\n",
    "        thresh[i, j] = (mult/10 - hunt)/100\n",
    "with np.printoptions(precision=3, suppress=True):\n",
    "    print(thresh)"
   ],
   "id": "d4f3bba7caf5414c",
   "outputs": [
    {
     "name": "stdout",
     "output_type": "stream",
     "text": [
      "[[ 0.02   0.01   0.013  0.011  0.02 ]\n",
      " [ 0.009  0.     0.007  0.03  -0.01 ]\n",
      " [ 0.007  0.01   0.033 -0.05   0.   ]\n",
      " [ 0.011  0.029  0.003  0.017  0.01 ]]\n"
     ]
    }
   ],
   "execution_count": 9
  },
  {
   "metadata": {},
   "cell_type": "markdown",
   "source": "# Max Min Optimization",
   "id": "ff3390c8a76728e7"
  },
  {
   "metadata": {
    "ExecuteTime": {
     "end_time": "2025-04-17T16:53:48.948502Z",
     "start_time": "2025-04-17T16:53:48.938795Z"
    }
   },
   "cell_type": "code",
   "source": [
    "def maximin1():\n",
    "    \"\"\"Solves the maximin optimization problem for a single expedition.\n",
    "\n",
    "    Parameters\n",
    "    ----------\n",
    "\n",
    "    Returns\n",
    "    -------\n",
    "    argmax : list of tuple\n",
    "        Maximizers.\n",
    "    max_val : float\n",
    "        Maximal profit.\n",
    "\n",
    "    \"\"\"\n",
    "    max_val = float('-inf')\n",
    "    argmax = []\n",
    "    for mult, hunt in arr.reshape((20, 2)):\n",
    "        val = mult / (hunt + 100) * 10000\n",
    "        if math.isclose(val, max_val):\n",
    "            argmax.append((mult, hunt))\n",
    "        elif val > max_val:\n",
    "            argmax = [(mult, hunt)]\n",
    "            max_val = val\n",
    "    return (argmax, max_val)"
   ],
   "id": "74143a6774e06a1c",
   "outputs": [],
   "execution_count": 35
  },
  {
   "metadata": {
    "ExecuteTime": {
     "end_time": "2025-04-17T16:53:49.375250Z",
     "start_time": "2025-04-17T16:53:49.370123Z"
    }
   },
   "cell_type": "code",
   "source": "maximin1()",
   "id": "94d5387af665b59e",
   "outputs": [
    {
     "data": {
      "text/plain": [
       "([(100, 15)], 8695.652173913044)"
      ]
     },
     "execution_count": 36,
     "metadata": {},
     "output_type": "execute_result"
    }
   ],
   "execution_count": 36
  },
  {
   "metadata": {
    "ExecuteTime": {
     "end_time": "2025-04-17T17:02:28.028805Z",
     "start_time": "2025-04-17T17:02:27.888528Z"
    }
   },
   "cell_type": "code",
   "source": [
    "session = WolframLanguageSession()\n",
    "\n",
    "def maximize2():\n",
    "    \"\"\"Solves the maximin optimization problem for two expeditions. Returns only one solution, there may be other.\n",
    "\n",
    "    Parameters\n",
    "    ----------\n",
    "\n",
    "    Returns\n",
    "    -------\n",
    "    argmax1 : tuple\n",
    "        First expedition.\n",
    "    argmax2 : tuple\n",
    "        Second expedition.\n",
    "    max_val : float\n",
    "        Maximal profit.\n",
    "\n",
    "    \"\"\"\n",
    "    max_val = float('-inf')\n",
    "    max_mult1, max_hunt1 = None, None\n",
    "    max_mult2, max_hunt2 = None, None\n",
    "    for (mult1, hunt1), (mult2, hunt2) in itertools.combinations(arr.reshape((20, 2)), 2):\n",
    "        val_temp = session.evaluate(wlexpr(f'NMinimize[{{{mult1}/({hunt1} + 100*p1) + {mult2}/({hunt2} + 100*p2), 0 <= p1, 0 <= p2, p1 + p2 <= 1}}, {{p1, p2}}]'))[0]\n",
    "        val = -50000 + val_temp * 10000\n",
    "        if math.isclose(val, max_val):\n",
    "            print(\"collision\")\n",
    "        if val > max_val:\n",
    "            max_mult1, max_hunt1 = mult1, hunt1\n",
    "            max_mult2, max_hunt2 = mult2, hunt2\n",
    "            max_val = val\n",
    "    return ((max_mult1, max_hunt1), (max_mult2, max_hunt2), max_val)"
   ],
   "id": "9010a88e1076409",
   "outputs": [],
   "execution_count": 41
  },
  {
   "metadata": {
    "ExecuteTime": {
     "end_time": "2025-04-17T17:07:21.091268Z",
     "start_time": "2025-04-17T17:07:14.312784Z"
    }
   },
   "cell_type": "code",
   "source": "maximize2()",
   "id": "51b26e0ea6e92958",
   "outputs": [
    {
     "data": {
      "text/plain": [
       "((89, 8), (100, 15), -19294.3398722117)"
      ]
     },
     "execution_count": 44,
     "metadata": {},
     "output_type": "execute_result"
    }
   ],
   "execution_count": 44
  },
  {
   "metadata": {
    "ExecuteTime": {
     "end_time": "2025-04-17T17:07:44.540871Z",
     "start_time": "2025-04-17T17:07:44.529123Z"
    }
   },
   "cell_type": "code",
   "source": [
    "def maximize3():\n",
    "    \"\"\"Solves the maximin optimization problem for three expeditions. Returns only one solution, there may be other.\n",
    "\n",
    "    Parameters\n",
    "    ----------\n",
    "\n",
    "    Returns\n",
    "    -------\n",
    "    argmax1 : tuple\n",
    "        First expedition.\n",
    "    argmax2 : tuple\n",
    "        Second expedition.\n",
    "    argmax3 : tuple\n",
    "        Third expedition.\n",
    "    max_val : float\n",
    "        Maximal profit.\n",
    "\n",
    "    \"\"\"\n",
    "    max_val = float('-inf')\n",
    "    max_mult1, max_hunt1 = None, None\n",
    "    max_mult2, max_hunt2 = None, None\n",
    "    max_mult3, max_hunt3 = None, None\n",
    "    for (mult1, hunt1), (mult2, hunt2), (mult3, hunt3) in itertools.combinations(arr.reshape((20, 2)), 3):\n",
    "        val_temp = session.evaluate(wlexpr(f'NMinimize[{{{mult1}/({hunt1} + 100*p1) + {mult2}/({hunt2} + 100*p2) + {mult3}/({hunt3} + 100*p3), 0<=p1, 0<=p2, 0<=p3, p1+p2+p3 <= 1}}, {{p1,p2,p3}}]'))[0]\n",
    "        val = -100000 + val_temp * 10000\n",
    "        if math.isclose(val, max_val):\n",
    "            print(\"collision\")\n",
    "        if val > max_val:\n",
    "            max_mult1, max_hunt1 = mult1, hunt1\n",
    "            max_mult2, max_hunt2 = mult2, hunt2\n",
    "            max_mult3, max_hunt3 = mult3, hunt3\n",
    "            max_val = val\n",
    "    return ((max_mult1, max_hunt1), (max_mult2, max_hunt2), (max_mult3, max_hunt3), max_val)"
   ],
   "id": "a0f89856c98bd563",
   "outputs": [],
   "execution_count": 47
  },
  {
   "metadata": {
    "ExecuteTime": {
     "end_time": "2025-04-17T17:08:03.297800Z",
     "start_time": "2025-04-17T17:07:45.682773Z"
    }
   },
   "cell_type": "code",
   "source": "maximize3()",
   "id": "18f91abc0e7b790c",
   "outputs": [
    {
     "data": {
      "text/plain": [
       "((89, 8), (90, 10), (100, 15), -37111.68448500797)"
      ]
     },
     "execution_count": 48,
     "metadata": {},
     "output_type": "execute_result"
    }
   ],
   "execution_count": 48
  },
  {
   "metadata": {},
   "cell_type": "markdown",
   "source": "# Optimization given a prior",
   "id": "d10f7d4f296d012c"
  },
  {
   "metadata": {
    "ExecuteTime": {
     "end_time": "2025-04-17T16:42:42.353500Z",
     "start_time": "2025-04-17T16:42:42.327198Z"
    }
   },
   "cell_type": "code",
   "source": [
    "ratios = np.zeros((4, 5))\n",
    "for i in range(4):\n",
    "    for j in range(5):\n",
    "        mult, hunt = arr[i, j]\n",
    "        ratios[i, j] = mult/hunt\n",
    "with np.printoptions(precision=2, suppress=True):\n",
    "    print(\"Ratios:\", ratios, sep='\\n')"
   ],
   "id": "bbb6a657159527f6",
   "outputs": [
    {
     "name": "stdout",
     "output_type": "stream",
     "text": [
      "Ratios:\n",
      "[[13.33 12.5  11.86 15.5  15.  ]\n",
      " [11.12 10.   12.33 17.5   9.  ]\n",
      " [17.   13.33 18.25  6.67 10.  ]\n",
      " [13.67 15.8  11.5  15.67 15.  ]]\n"
     ]
    }
   ],
   "execution_count": 10
  },
  {
   "metadata": {
    "ExecuteTime": {
     "end_time": "2025-04-17T16:42:49.417656Z",
     "start_time": "2025-04-17T16:42:49.410126Z"
    }
   },
   "cell_type": "code",
   "source": [
    "shares = ratios / np.sum(ratios)\n",
    "with np.printoptions(precision=3, suppress=True):\n",
    "    print(\"Natural prior:\", shares, sep='\\n')"
   ],
   "id": "64bd5782d13bd253",
   "outputs": [
    {
     "name": "stdout",
     "output_type": "stream",
     "text": [
      "Natural prior:\n",
      "[[0.05  0.047 0.045 0.058 0.057]\n",
      " [0.042 0.038 0.047 0.066 0.034]\n",
      " [0.064 0.05  0.069 0.025 0.038]\n",
      " [0.052 0.06  0.043 0.059 0.057]]\n"
     ]
    }
   ],
   "execution_count": 11
  },
  {
   "metadata": {
    "ExecuteTime": {
     "end_time": "2025-04-17T16:44:00.250895Z",
     "start_time": "2025-04-17T16:44:00.240546Z"
    }
   },
   "cell_type": "code",
   "source": [
    "def fee(n):\n",
    "    \"\"\"Compute the fee for a total of n expeditions.\n",
    "\n",
    "    Parameters\n",
    "    ----------\n",
    "    n : int\n",
    "        Number of expeditions.\n",
    "\n",
    "    Returns\n",
    "    -------\n",
    "    float\n",
    "        Fee.\n",
    "    \"\"\"\n",
    "    if n == 1:\n",
    "        return 0\n",
    "    if n == 2:\n",
    "        return -25000\n",
    "    if n == 3:\n",
    "        return -100000\n",
    "\n",
    "def payoff(mults, hunts, shares):\n",
    "    \"\"\"Compute the final profit after the expeditions.\n",
    "\n",
    "    Parameters\n",
    "    ----------\n",
    "    mults : list of int\n",
    "        Multipliers for each destination.\n",
    "    hunts : list of int\n",
    "        Hunters for each destination.\n",
    "    shares : list of int\n",
    "        Shares for each destination.\n",
    "\n",
    "    Returns\n",
    "    -------\n",
    "    float\n",
    "        Profit.\n",
    "    \"\"\"\n",
    "    return 7500 * sum([mult/(hunt + 100*share) for (mult, hunt, share) in zip(mults, hunts, shares)]) + fee(len(mults))\n",
    "\n",
    "def maximize_prior_top(shares, k):\n",
    "    \"\"\"Given the prior, compute solutions that yield top k profits.\n",
    "\n",
    "    Parameters\n",
    "    ----------\n",
    "    shares : list of int\n",
    "        Shares for each destination.\n",
    "    k : int\n",
    "        Number of solutions\n",
    "\n",
    "    Returns\n",
    "    -------\n",
    "    list of tuple\n",
    "        Top k profits and optimal expeditions.\n",
    "    \"\"\"\n",
    "    datas = [(mult, hunt, share) for ((mult, hunt), share) in zip(arr.reshape((20, 2)), shares.reshape(20))]\n",
    "    heap = []\n",
    "    iterables = [itertools.combinations(datas, n_exp) for n_exp in range(1, 4)]\n",
    "    for (i, data) in enumerate(itertools.chain.from_iterable(iterables)):\n",
    "        mults = [tupl[0] for tupl in data]\n",
    "        hunts = [tupl[1] for tupl in data]\n",
    "        shares = [tupl[-1] for tupl in data]\n",
    "        val = payoff(mults, hunts, shares)\n",
    "        expeditions = list(zip(mults, hunts))\n",
    "        if i < k:\n",
    "            heapq.heappush(heap, (val, expeditions))\n",
    "        elif val > heap[0][0]:\n",
    "            heapq.heappop(heap)\n",
    "            heapq.heappush(heap, (val, expeditions))\n",
    "    return sorted(heap, reverse=True)"
   ],
   "id": "e119833da1c5e30d",
   "outputs": [],
   "execution_count": 16
  },
  {
   "metadata": {
    "ExecuteTime": {
     "end_time": "2025-04-17T16:44:00.941190Z",
     "start_time": "2025-04-17T16:44:00.912693Z"
    }
   },
   "cell_type": "code",
   "source": [
    "for i in range(10):\n",
    "    shares = ratios**i\n",
    "    shares = shares / np.sum(shares)\n",
    "    res = maximize_prior_top(shares, 1)\n",
    "    print(\"Exponent:\", i, \"Profit:\", f\"{res[0][0]:.2f}\", \"Optimal expeditions:\", res[0][1])"
   ],
   "id": "ac7a4bced5dbed20",
   "outputs": [
    {
     "name": "stdout",
     "output_type": "stream",
     "text": [
      "Exponent: 0 Profit: 95083.33 Optimal expeditions: [(73, 4), (79, 5)]\n",
      "Exponent: 1 Profit: 84116.84 Optimal expeditions: [(80, 6), (89, 8)]\n",
      "Exponent: 2 Profit: 91337.75 Optimal expeditions: [(83, 7), (89, 8)]\n",
      "Exponent: 3 Profit: 99554.08 Optimal expeditions: [(83, 7), (89, 8)]\n",
      "Exponent: 4 Profit: 107921.49 Optimal expeditions: [(83, 7), (89, 8)]\n",
      "Exponent: 5 Profit: 115846.44 Optimal expeditions: [(83, 7), (89, 8)]\n",
      "Exponent: 6 Profit: 122907.25 Optimal expeditions: [(83, 7), (89, 8)]\n",
      "Exponent: 7 Profit: 128877.49 Optimal expeditions: [(83, 7), (89, 8)]\n",
      "Exponent: 8 Profit: 133705.93 Optimal expeditions: [(83, 7), (89, 8)]\n",
      "Exponent: 9 Profit: 141048.66 Optimal expeditions: [(80, 6), (83, 7), (89, 8)]\n"
     ]
    }
   ],
   "execution_count": 17
  },
  {
   "metadata": {},
   "cell_type": "markdown",
   "source": "# Adjusting Prior using past year data",
   "id": "385207146fb9b43c"
  },
  {
   "metadata": {
    "ExecuteTime": {
     "end_time": "2025-04-17T16:44:45.369085Z",
     "start_time": "2025-04-17T16:44:45.350566Z"
    }
   },
   "cell_type": "code",
   "source": [
    "mult = np.array([\n",
    "    100, 90, 89, 87, 85, 83, 82, 80, 79, 77,\n",
    "    73, 70, 60, 55, 52, 47, 41, 35, 30, 27,\n",
    "    24, 21, 17, 15, 12\n",
    "])\n",
    "\n",
    "hunt = np.array([\n",
    "    8, 7, 5, 5, 5, 5, 5, 5, 5, 5,\n",
    "    4, 4, 4, 4, 4, 3, 3, 3, 3, 3,\n",
    "    2, 2, 2, 2, 2\n",
    "])\n",
    "\n",
    "past_ratios = mult/hunt\n",
    "\n",
    "true_perc = np.array([\n",
    "    1.348836074, 5.767443081, 2.720993972, 0.9303010114, 4.372104849,\n",
    "    3.558136956, 6.44182824, 7.13946832, 6.162787002, 1.883712518,\n",
    "    6.186049452, 7.418603709, 5.953443849, 5.558078804, 0.372180907,\n",
    "    5.744162446, 6.581396295, 6.860435228, 6.023287011, 3.674380297,\n",
    "    0, 0.7674409483, 3.255871615, 0.09302948621, 1.186027929\n",
    "])"
   ],
   "id": "7688ea9da857614f",
   "outputs": [],
   "execution_count": 18
  },
  {
   "metadata": {
    "ExecuteTime": {
     "end_time": "2025-04-17T16:46:35.066405Z",
     "start_time": "2025-04-17T16:46:34.896475Z"
    }
   },
   "cell_type": "code",
   "source": [
    "data = list(zip(past_ratios, true_perc))\n",
    "ratio_to_perc = pd.DataFrame(data, columns=[\"ratio\", \"true_perc\"]).sort_values(\"ratio\")\n",
    "fig, ax = plt.subplots(figsize=(12, 4))\n",
    "ax.plot(ratio_to_perc[\"ratio\"], ratio_to_perc[\"true_perc\"])\n",
    "bin_labels = range(5)\n",
    "ratio_to_perc[\"bin\"], bin_edges = pd.cut(ratio_to_perc[\"ratio\"], bins=5, labels=bin_labels, retbins=True)\n",
    "\n",
    "bin_probs = ratio_to_perc.groupby(\"bin\")[\"true_perc\"].sum() / 100\n",
    "\n",
    "# Display result\n",
    "for i, prob in enumerate(bin_probs):\n",
    "    interval = (bin_edges[i], bin_edges[i + 1])\n",
    "    print(f\"Bin {i + 1}: Range = {interval}, Probability = {prob:.4f}\")\n",
    "\n",
    "\n",
    "def compute_adj_shares(ratios, bin_probs, i=1):\n",
    "    n_rows, n_cols = ratios.shape\n",
    "    adjusted_all = np.zeros_like(ratios, dtype=float)\n",
    "\n",
    "    for row_idx in range(n_rows):\n",
    "        row_ratios = ratios[row_idx]\n",
    "        transformed = row_ratios ** i\n",
    "\n",
    "        bin_assignments, bin_edges = pd.cut(transformed, bins=5, labels=False, retbins=True)\n",
    "        shares = transformed / np.sum(transformed)\n",
    "\n",
    "        df = pd.DataFrame({\n",
    "            \"ratio\": transformed,\n",
    "            \"prior_share\": shares,\n",
    "            \"bin\": bin_assignments\n",
    "        })\n",
    "\n",
    "        adjusted_shares = np.zeros_like(shares)\n",
    "\n",
    "        for b in range(5):\n",
    "            bin_mask = df[\"bin\"] == b\n",
    "            bin_total = df.loc[bin_mask, \"prior_share\"].sum()\n",
    "\n",
    "            if bin_total > 0:\n",
    "                scale = bin_probs[b] / bin_total\n",
    "                adjusted_shares[bin_mask] = df.loc[bin_mask, \"prior_share\"] * scale\n",
    "\n",
    "        adjusted_shares /= adjusted_shares.sum()\n",
    "        adjusted_all[row_idx] = adjusted_shares\n",
    "\n",
    "    return adjusted_all\n",
    "\n",
    "\n",
    "# Show result\n",
    "with np.printoptions(precision=3, suppress=True):\n",
    "    print(\"Adjusted shares:\\n\", compute_adj_shares(ratios, bin_probs, 1))"
   ],
   "id": "20595c753a36c7c7",
   "outputs": [
    {
     "name": "stdout",
     "output_type": "stream",
     "text": [
      "Bin 1: Range = (5.98775, 8.45), Probability = 0.0128\n",
      "Bin 2: Range = (8.45, 10.9), Probability = 0.1372\n",
      "Bin 3: Range = (10.9, 13.350000000000001), Probability = 0.1435\n",
      "Bin 4: Range = (13.350000000000001, 15.8), Probability = 0.3188\n",
      "Bin 5: Range = (15.8, 18.25), Probability = 0.3877\n",
      "Adjusted shares:\n",
      " [[0.264 0.012 0.011 0.362 0.351]\n",
      " [0.121 0.013 0.134 0.721 0.011]\n",
      " [0.274 0.211 0.295 0.019 0.201]\n",
      " [0.264 0.242 0.024 0.24  0.23 ]]\n"
     ]
    },
    {
     "data": {
      "text/plain": [
       "<Figure size 1200x400 with 1 Axes>"
      ],
      "image/png": "[encoded data removed]"
     },
     "metadata": {},
     "output_type": "display_data"
    }
   ],
   "execution_count": 22
  },
  {
   "metadata": {
    "ExecuteTime": {
     "end_time": "2025-04-17T16:46:54.096352Z",
     "start_time": "2025-04-17T16:46:54.025793Z"
    }
   },
   "cell_type": "code",
   "source": [
    "for i in range(1, 10):\n",
    "    adj_shares = compute_adj_shares(ratios, bin_probs, i)\n",
    "    res = maximize_prior_top(adj_shares, 1)\n",
    "    print(\"Exponent:\", i, \"Profit:\", f\"{res[0][0]:.2f}\", \"Optimal expeditions:\", res[0][1])"
   ],
   "id": "e4f6c89e7e648c07",
   "outputs": [
    {
     "name": "stdout",
     "output_type": "stream",
     "text": [
      "Exponent: 1 Profit: 123452.46 Optimal expeditions: [(50, 4), (83, 7)]\n",
      "Exponent: 2 Profit: 126046.86 Optimal expeditions: [(83, 7), (89, 8)]\n",
      "Exponent: 3 Profit: 125614.76 Optimal expeditions: [(83, 7), (89, 8)]\n",
      "Exponent: 4 Profit: 127282.67 Optimal expeditions: [(83, 7), (89, 8)]\n",
      "Exponent: 5 Profit: 133915.89 Optimal expeditions: [(50, 4), (83, 7), (89, 8)]\n",
      "Exponent: 6 Profit: 133929.92 Optimal expeditions: [(50, 4), (83, 7), (89, 8)]\n",
      "Exponent: 7 Profit: 134019.72 Optimal expeditions: [(50, 4), (83, 7), (89, 8)]\n",
      "Exponent: 8 Profit: 134173.98 Optimal expeditions: [(50, 4), (83, 7), (89, 8)]\n",
      "Exponent: 9 Profit: 154477.92 Optimal expeditions: [(80, 6), (50, 4), (83, 7)]\n"
     ]
    }
   ],
   "execution_count": 23
  },
  {
   "metadata": {},
   "cell_type": "markdown",
   "source": "# Modelling with exponential distribution",
   "id": "133614eeeeca9285"
  },
  {
   "metadata": {
    "ExecuteTime": {
     "end_time": "2025-04-17T16:47:36.120931Z",
     "start_time": "2025-04-17T16:47:36.103314Z"
    }
   },
   "cell_type": "code",
   "source": [
    "def compute_estimated_shares(naive_values, beta=0.7):\n",
    "    \"\"\"\n",
    "    Compute estimated shares using a softmax transformation.\n",
    "\n",
    "    Parameters\n",
    "    ----------\n",
    "    naive_values : array-like\n",
    "        A naïve measure of container attractiveness.\n",
    "    beta : float, optional\n",
    "        Sensitivity parameter; higher beta accentuates differences in attractiveness.\n",
    "\n",
    "    Returns\n",
    "    -------\n",
    "    np.ndarray\n",
    "        Shares as fractions that sum to 1.\n",
    "    \"\"\"\n",
    "    # Apply the softmax transformation: exp(beta * value) normalized by the sum.\n",
    "    exp_vals = np.exp(beta * np.array(naive_values))\n",
    "    shares = exp_vals / exp_vals.sum()\n",
    "    return shares"
   ],
   "id": "43b9f06d53f6d135",
   "outputs": [],
   "execution_count": 24
  },
  {
   "metadata": {
    "ExecuteTime": {
     "end_time": "2025-04-17T16:47:43.115199Z",
     "start_time": "2025-04-17T16:47:43.108153Z"
    }
   },
   "cell_type": "code",
   "source": [
    "# Compute estimated shares using the softmax approach.\n",
    "estimated_shares = compute_estimated_shares(ratios, beta=0.25)\n",
    "\n",
    "with np.printoptions(precision=3, suppress=True):\n",
    "    print(\"Estimated Shares:\", estimated_shares, sep='\\n')"
   ],
   "id": "99a477c847475ced",
   "outputs": [
    {
     "name": "stdout",
     "output_type": "stream",
     "text": [
      "Estimated Shares:\n",
      "[[0.04  0.032 0.028 0.068 0.06 ]\n",
      " [0.023 0.017 0.031 0.113 0.013]\n",
      " [0.1   0.04  0.136 0.008 0.017]\n",
      " [0.043 0.074 0.025 0.071 0.06 ]]\n"
     ]
    }
   ],
   "execution_count": 25
  },
  {
   "metadata": {
    "ExecuteTime": {
     "end_time": "2025-04-17T16:59:00.790288Z",
     "start_time": "2025-04-17T16:59:00.764997Z"
    }
   },
   "cell_type": "code",
   "source": [
    "for i in range(3):\n",
    "    shares = ratios**i\n",
    "    shares = compute_estimated_shares(shares, beta = 0.25)\n",
    "    res = maximize_prior_top(shares, 1)\n",
    "    print(\"Exponent:\", i, \"Profit:\", f\"{res[0][0]:.2f}\", \"Optimal expeditions:\", res[0][1])"
   ],
   "id": "4f36fbcd37593807",
   "outputs": [
    {
     "name": "stdout",
     "output_type": "stream",
     "text": [
      "Exponent: 0 Profit: 95083.33 Optimal expeditions: [(73, 4), (79, 5)]\n",
      "Exponent: 1 Profit: 103692.53 Optimal expeditions: [(83, 7), (89, 8)]\n",
      "Exponent: 2 Profit: 273139.17 Optimal expeditions: [(70, 4), (17, 1), (79, 5)]\n"
     ]
    }
   ],
   "execution_count": 40
  },
  {
   "metadata": {},
   "cell_type": "code",
   "outputs": [],
   "execution_count": null,
   "source": "",
   "id": "b515e17cc7a1c2dc"
  }
 ],
 "metadata": {
  "kernelspec": {
   "display_name": "Python 3",
   "language": "python",
   "name": "python3"
  },
  "language_info": {
   "codemirror_mode": {
    "name": "ipython",
    "version": 2
   },
   "file_extension": ".py",
   "mimetype": "text/x-python",
   "name": "python",
   "nbconvert_exporter": "python",
   "pygments_lexer": "ipython2",
   "version": "2.7.6"
  }
 },
 "nbformat": 4,
 "nbformat_minor": 5
}
